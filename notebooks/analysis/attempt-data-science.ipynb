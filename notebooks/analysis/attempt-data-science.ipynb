{
 "cells": [
  {
   "cell_type": "code",
   "execution_count": 25,
   "metadata": {},
   "outputs": [],
   "source": [
    "IS_OSC = False"
   ]
  },
  {
   "cell_type": "code",
   "execution_count": 26,
   "metadata": {},
   "outputs": [],
   "source": [
    "# Setup script to run on OSC\n",
    "# conda install scikit-learn matplotlib nltk seaborn\n",
    "# pip install git+https://github.com/titipata/pubmed_parser.git@0.3.1\n",
    "# conda install -c conda-forge hummingbird-ml\n",
    "# conda install ipykernel\n",
    "# ipython kernel install --user --name=thesis\n"
   ]
  },
  {
   "cell_type": "code",
   "execution_count": 27,
   "metadata": {},
   "outputs": [],
   "source": [
    "%matplotlib inline\n",
    "import matplotlib.pyplot as plt\n",
    "import pandas as pd\n",
    "from sklearn.model_selection import train_test_split\n",
    "from sklearn.feature_extraction.text import TfidfVectorizer\n",
    "from sklearn.naive_bayes import MultinomialNB\n",
    "from sklearn.metrics import accuracy_score, precision_score, recall_score\n",
    "from sklearn.multiclass import OneVsRestClassifier\n",
    "from nltk.corpus import stopwords\n",
    "stop_words = set(stopwords.words('english'))\n",
    "from sklearn.pipeline import Pipeline\n",
    "import seaborn as sns\n",
    "import pubmed_parser as pp\n",
    "import csv\n",
    "from tqdm import tqdm\n",
    "from hummingbird.ml import convert\n",
    "\n",
    "import warnings\n",
    "warnings.filterwarnings('ignore')"
   ]
  },
  {
   "cell_type": "markdown",
   "metadata": {},
   "source": [
    "Let's look at one pub-med dictionary entry:"
   ]
  },
  {
   "cell_type": "code",
   "execution_count": 28,
   "metadata": {},
   "outputs": [],
   "source": [
    "if IS_OSC:\n",
    "    data_path = \"/ftp.ncbi.nlm.nih.gov/pubmed/baseline/\"\n",
    "else:\n",
    "    data_path = '../../data/raw'\n",
    "path_xml = pp.list_xml_path(data_path) # list all xml paths under directory\n",
    "pubmed_dict = pp.parse_medline_xml(path_xml[0]) # dictionary output"
   ]
  },
  {
   "cell_type": "markdown",
   "metadata": {},
   "source": [
    "Load it into a dataframe and output the head"
   ]
  },
  {
   "cell_type": "code",
   "execution_count": 29,
   "metadata": {},
   "outputs": [
    {
     "data": {
      "text/html": [
       "<div>\n",
       "<style scoped>\n",
       "    .dataframe tbody tr th:only-of-type {\n",
       "        vertical-align: middle;\n",
       "    }\n",
       "\n",
       "    .dataframe tbody tr th {\n",
       "        vertical-align: top;\n",
       "    }\n",
       "\n",
       "    .dataframe thead th {\n",
       "        text-align: right;\n",
       "    }\n",
       "</style>\n",
       "<table border=\"1\" class=\"dataframe\">\n",
       "  <thead>\n",
       "    <tr style=\"text-align: right;\">\n",
       "      <th></th>\n",
       "      <th>title</th>\n",
       "      <th>issue</th>\n",
       "      <th>pages</th>\n",
       "      <th>abstract</th>\n",
       "      <th>journal</th>\n",
       "      <th>authors</th>\n",
       "      <th>pubdate</th>\n",
       "      <th>pmid</th>\n",
       "      <th>mesh_terms</th>\n",
       "      <th>publication_types</th>\n",
       "      <th>...</th>\n",
       "      <th>doi</th>\n",
       "      <th>references</th>\n",
       "      <th>delete</th>\n",
       "      <th>affiliations</th>\n",
       "      <th>pmc</th>\n",
       "      <th>other_id</th>\n",
       "      <th>medline_ta</th>\n",
       "      <th>nlm_unique_id</th>\n",
       "      <th>issn_linking</th>\n",
       "      <th>country</th>\n",
       "    </tr>\n",
       "  </thead>\n",
       "  <tbody>\n",
       "    <tr>\n",
       "      <th>0</th>\n",
       "      <td>[Beta-blockers and arterial hypertension in th...</td>\n",
       "      <td>7(31)</td>\n",
       "      <td>2807-9</td>\n",
       "      <td></td>\n",
       "      <td>La Nouvelle presse medicale</td>\n",
       "      <td>Tcherdakoff|P|P|</td>\n",
       "      <td>1978</td>\n",
       "      <td>30970</td>\n",
       "      <td>D000319:Adrenergic beta-Antagonists; D005260:F...</td>\n",
       "      <td>D016428:Journal Article</td>\n",
       "      <td>...</td>\n",
       "      <td></td>\n",
       "      <td></td>\n",
       "      <td>False</td>\n",
       "      <td></td>\n",
       "      <td></td>\n",
       "      <td></td>\n",
       "      <td>Nouv Presse Med</td>\n",
       "      <td>0312552</td>\n",
       "      <td>0301-1518</td>\n",
       "      <td>France</td>\n",
       "    </tr>\n",
       "    <tr>\n",
       "      <th>1</th>\n",
       "      <td>[beta-blockers and high risk pregnancies. View...</td>\n",
       "      <td>7(31)</td>\n",
       "      <td>2811-2</td>\n",
       "      <td></td>\n",
       "      <td>La Nouvelle presse medicale</td>\n",
       "      <td>Dubois|D|D|;Petitcolas|J|J|</td>\n",
       "      <td>1978</td>\n",
       "      <td>30971</td>\n",
       "      <td>D000070:Acebutolol; D000319:Adrenergic beta-An...</td>\n",
       "      <td>D016428:Journal Article</td>\n",
       "      <td>...</td>\n",
       "      <td></td>\n",
       "      <td></td>\n",
       "      <td>False</td>\n",
       "      <td></td>\n",
       "      <td></td>\n",
       "      <td></td>\n",
       "      <td>Nouv Presse Med</td>\n",
       "      <td>0312552</td>\n",
       "      <td>0301-1518</td>\n",
       "      <td>France</td>\n",
       "    </tr>\n",
       "    <tr>\n",
       "      <th>2</th>\n",
       "      <td>[Surface defense mechanisms of the nasal mucosa].</td>\n",
       "      <td>33(35)</td>\n",
       "      <td>1391-3</td>\n",
       "      <td></td>\n",
       "      <td>Polski tygodnik lekarski (Warsaw, Poland : 1960)</td>\n",
       "      <td>Makowska|W|W|;Zawisza|E|E|</td>\n",
       "      <td>1978</td>\n",
       "      <td>30972</td>\n",
       "      <td>D001424:Bacterial Infections; D002633:Chemotax...</td>\n",
       "      <td>D016428:Journal Article; D016454:Review</td>\n",
       "      <td>...</td>\n",
       "      <td></td>\n",
       "      <td></td>\n",
       "      <td>False</td>\n",
       "      <td></td>\n",
       "      <td></td>\n",
       "      <td></td>\n",
       "      <td>Pol Tyg Lek</td>\n",
       "      <td>9705468</td>\n",
       "      <td>0032-3756</td>\n",
       "      <td>Poland</td>\n",
       "    </tr>\n",
       "    <tr>\n",
       "      <th>3</th>\n",
       "      <td>[Pharmacological treatment of coronary disease].</td>\n",
       "      <td>33(44)</td>\n",
       "      <td>1721-4</td>\n",
       "      <td></td>\n",
       "      <td>Polski tygodnik lekarski (Warsaw, Poland : 1960)</td>\n",
       "      <td>Krotkiewski|A|A|</td>\n",
       "      <td>1978</td>\n",
       "      <td>30973</td>\n",
       "      <td>D000319:Adrenergic beta-Antagonists; D003327:C...</td>\n",
       "      <td>D016428:Journal Article</td>\n",
       "      <td>...</td>\n",
       "      <td></td>\n",
       "      <td></td>\n",
       "      <td>False</td>\n",
       "      <td></td>\n",
       "      <td></td>\n",
       "      <td></td>\n",
       "      <td>Pol Tyg Lek</td>\n",
       "      <td>9705468</td>\n",
       "      <td>0032-3756</td>\n",
       "      <td>Poland</td>\n",
       "    </tr>\n",
       "    <tr>\n",
       "      <th>4</th>\n",
       "      <td>Treating the outpatient schizophrenic.</td>\n",
       "      <td>64(5)</td>\n",
       "      <td>48-56</td>\n",
       "      <td></td>\n",
       "      <td>Postgraduate medicine</td>\n",
       "      <td>Gelenberg|A J|AJ|</td>\n",
       "      <td>1978</td>\n",
       "      <td>30974</td>\n",
       "      <td>D000208:Acute Disease; D000553:Ambulatory Care...</td>\n",
       "      <td>D016428:Journal Article</td>\n",
       "      <td>...</td>\n",
       "      <td>10.1080/00325481.1978.11714969</td>\n",
       "      <td></td>\n",
       "      <td>False</td>\n",
       "      <td></td>\n",
       "      <td></td>\n",
       "      <td></td>\n",
       "      <td>Postgrad Med</td>\n",
       "      <td>0401147</td>\n",
       "      <td>0032-5481</td>\n",
       "      <td>England</td>\n",
       "    </tr>\n",
       "  </tbody>\n",
       "</table>\n",
       "<p>5 rows × 22 columns</p>\n",
       "</div>"
      ],
      "text/plain": [
       "                                               title   issue   pages abstract  \\\n",
       "0  [Beta-blockers and arterial hypertension in th...   7(31)  2807-9            \n",
       "1  [beta-blockers and high risk pregnancies. View...   7(31)  2811-2            \n",
       "2  [Surface defense mechanisms of the nasal mucosa].  33(35)  1391-3            \n",
       "3   [Pharmacological treatment of coronary disease].  33(44)  1721-4            \n",
       "4             Treating the outpatient schizophrenic.   64(5)   48-56            \n",
       "\n",
       "                                            journal  \\\n",
       "0                       La Nouvelle presse medicale   \n",
       "1                       La Nouvelle presse medicale   \n",
       "2  Polski tygodnik lekarski (Warsaw, Poland : 1960)   \n",
       "3  Polski tygodnik lekarski (Warsaw, Poland : 1960)   \n",
       "4                             Postgraduate medicine   \n",
       "\n",
       "                       authors pubdate   pmid  \\\n",
       "0             Tcherdakoff|P|P|    1978  30970   \n",
       "1  Dubois|D|D|;Petitcolas|J|J|    1978  30971   \n",
       "2   Makowska|W|W|;Zawisza|E|E|    1978  30972   \n",
       "3             Krotkiewski|A|A|    1978  30973   \n",
       "4            Gelenberg|A J|AJ|    1978  30974   \n",
       "\n",
       "                                          mesh_terms  \\\n",
       "0  D000319:Adrenergic beta-Antagonists; D005260:F...   \n",
       "1  D000070:Acebutolol; D000319:Adrenergic beta-An...   \n",
       "2  D001424:Bacterial Infections; D002633:Chemotax...   \n",
       "3  D000319:Adrenergic beta-Antagonists; D003327:C...   \n",
       "4  D000208:Acute Disease; D000553:Ambulatory Care...   \n",
       "\n",
       "                         publication_types  ...  \\\n",
       "0                  D016428:Journal Article  ...   \n",
       "1                  D016428:Journal Article  ...   \n",
       "2  D016428:Journal Article; D016454:Review  ...   \n",
       "3                  D016428:Journal Article  ...   \n",
       "4                  D016428:Journal Article  ...   \n",
       "\n",
       "                              doi references delete affiliations  pmc  \\\n",
       "0                                             False                     \n",
       "1                                             False                     \n",
       "2                                             False                     \n",
       "3                                             False                     \n",
       "4  10.1080/00325481.1978.11714969             False                     \n",
       "\n",
       "  other_id       medline_ta nlm_unique_id issn_linking  country  \n",
       "0           Nouv Presse Med       0312552    0301-1518   France  \n",
       "1           Nouv Presse Med       0312552    0301-1518   France  \n",
       "2               Pol Tyg Lek       9705468    0032-3756   Poland  \n",
       "3               Pol Tyg Lek       9705468    0032-3756   Poland  \n",
       "4              Postgrad Med       0401147    0032-5481  England  \n",
       "\n",
       "[5 rows x 22 columns]"
      ]
     },
     "execution_count": 29,
     "metadata": {},
     "output_type": "execute_result"
    }
   ],
   "source": [
    "df = pd.DataFrame(pubmed_dict)\n",
    "df.head()"
   ]
  },
  {
   "cell_type": "markdown",
   "metadata": {},
   "source": [
    "Drop the missing abstracts"
   ]
  },
  {
   "cell_type": "code",
   "execution_count": 30,
   "metadata": {},
   "outputs": [
    {
     "data": {
      "text/plain": [
       "(13415, 22)"
      ]
     },
     "execution_count": 30,
     "metadata": {},
     "output_type": "execute_result"
    }
   ],
   "source": [
    "df = df[df['abstract'] != '']\n",
    "df.shape"
   ]
  },
  {
   "cell_type": "markdown",
   "metadata": {},
   "source": [
    "Get the unique mesh terms"
   ]
  },
  {
   "cell_type": "code",
   "execution_count": 31,
   "metadata": {},
   "outputs": [
    {
     "data": {
      "text/plain": [
       "['D001058:Apomorphine',\n",
       " 'D010555:Personality Inventory',\n",
       " 'D005954:Glucosephosphate Dehydrogenase',\n",
       " 'D000369:Aged, 80 and over',\n",
       " 'D011197:Potassium Radioisotopes',\n",
       " 'D015004:Yellow Fever',\n",
       " 'D004825:Epiglottis',\n",
       " 'D001886:Bordetella pertussis',\n",
       " 'D000883:Anthropology',\n",
       " 'D005609:Free Radicals',\n",
       " 'D006428:Hemipelvectomy',\n",
       " 'D006408:Hematoma, Subdural',\n",
       " 'D006551:Hernia, Hiatal',\n",
       " 'D010529:Peritoneal Cavity',\n",
       " 'D016193:G1 Phase',\n",
       " 'D005263:Femoral Artery',\n",
       " 'D009470:Muscle Spindles',\n",
       " 'D011738:Pyrilamine',\n",
       " 'D001283:Atrioventricular Node',\n",
       " 'D010405:Penicillinase']"
      ]
     },
     "execution_count": 31,
     "metadata": {},
     "output_type": "execute_result"
    }
   ],
   "source": [
    "mesh_terms_arr = []\n",
    "[mesh_terms_arr.extend(mesh_terms.split('; ')) for mesh_terms in df.mesh_terms.to_list()]\n",
    "unique_mesh_terms = set(mesh_terms_arr)\n",
    "\n",
    "# Display the first 20 unique terms\n",
    "list(unique_mesh_terms)[:20]"
   ]
  },
  {
   "cell_type": "markdown",
   "metadata": {},
   "source": [
    "Add the mesh terms to the dataframe as columns. This does take about 5 minutes to run per volume."
   ]
  },
  {
   "cell_type": "code",
   "execution_count": 32,
   "metadata": {},
   "outputs": [
    {
     "name": "stderr",
     "output_type": "stream",
     "text": [
      "100%|██████████| 9214/9214 [01:18<00:00, 118.07it/s]\n"
     ]
    }
   ],
   "source": [
    "for mesh_term in tqdm(unique_mesh_terms):\n",
    "    df[mesh_term] = df.mesh_terms.apply(lambda x: 1 if mesh_term in x else 0)"
   ]
  },
  {
   "cell_type": "markdown",
   "metadata": {},
   "source": [
    "Display the head of the dataframe to see if the mesh terms were added"
   ]
  },
  {
   "cell_type": "code",
   "execution_count": 33,
   "metadata": {},
   "outputs": [
    {
     "data": {
      "text/html": [
       "<div>\n",
       "<style scoped>\n",
       "    .dataframe tbody tr th:only-of-type {\n",
       "        vertical-align: middle;\n",
       "    }\n",
       "\n",
       "    .dataframe tbody tr th {\n",
       "        vertical-align: top;\n",
       "    }\n",
       "\n",
       "    .dataframe thead th {\n",
       "        text-align: right;\n",
       "    }\n",
       "</style>\n",
       "<table border=\"1\" class=\"dataframe\">\n",
       "  <thead>\n",
       "    <tr style=\"text-align: right;\">\n",
       "      <th></th>\n",
       "      <th>title</th>\n",
       "      <th>issue</th>\n",
       "      <th>pages</th>\n",
       "      <th>abstract</th>\n",
       "      <th>journal</th>\n",
       "      <th>authors</th>\n",
       "      <th>pubdate</th>\n",
       "      <th>pmid</th>\n",
       "      <th>mesh_terms</th>\n",
       "      <th>publication_types</th>\n",
       "      <th>...</th>\n",
       "      <th>D003063:Cnidaria</th>\n",
       "      <th>D006261:Headache</th>\n",
       "      <th>D010559:Personnel Management</th>\n",
       "      <th>D000075:Acepromazine</th>\n",
       "      <th>D014594:Uterine Neoplasms</th>\n",
       "      <th>D009029:Mosaic Viruses</th>\n",
       "      <th>D009108:Mumps Vaccine</th>\n",
       "      <th>D007417:Intestinal Polyps</th>\n",
       "      <th>D007165:Immunosuppression Therapy</th>\n",
       "      <th>D013229:Stearic Acids</th>\n",
       "    </tr>\n",
       "  </thead>\n",
       "  <tbody>\n",
       "    <tr>\n",
       "      <th>10</th>\n",
       "      <td>[Isolation and properties of preparations the ...</td>\n",
       "      <td>14(5)</td>\n",
       "      <td>683-9</td>\n",
       "      <td>The paper describes a modified method of isola...</td>\n",
       "      <td>Prikladnaia biokhimiia i mikrobiologiia</td>\n",
       "      <td>Shvedova|T A|TA|;Petrova|A N|AN|</td>\n",
       "      <td>1978</td>\n",
       "      <td>30978</td>\n",
       "      <td>D015061:1,4-alpha-Glucan Branching Enzyme; D00...</td>\n",
       "      <td>D003160:Comparative Study; D004740:English Abs...</td>\n",
       "      <td>...</td>\n",
       "      <td>0</td>\n",
       "      <td>0</td>\n",
       "      <td>0</td>\n",
       "      <td>0</td>\n",
       "      <td>0</td>\n",
       "      <td>0</td>\n",
       "      <td>0</td>\n",
       "      <td>0</td>\n",
       "      <td>0</td>\n",
       "      <td>0</td>\n",
       "    </tr>\n",
       "    <tr>\n",
       "      <th>11</th>\n",
       "      <td>Potentiation of apomorphine action in rats by ...</td>\n",
       "      <td>9(3)</td>\n",
       "      <td>375-8</td>\n",
       "      <td>Although the antiparkinsonian activity of 1-pr...</td>\n",
       "      <td>Pharmacology, biochemistry, and behavior</td>\n",
       "      <td>Kostrzewa|R M|RM|;Kastin|A J|AJ|;Sobrian|S K|SK|</td>\n",
       "      <td>1978</td>\n",
       "      <td>30981</td>\n",
       "      <td>D000818:Animals; D001058:Apomorphine; D001522:...</td>\n",
       "      <td>D003160:Comparative Study; D016428:Journal Art...</td>\n",
       "      <td>...</td>\n",
       "      <td>0</td>\n",
       "      <td>0</td>\n",
       "      <td>0</td>\n",
       "      <td>0</td>\n",
       "      <td>0</td>\n",
       "      <td>0</td>\n",
       "      <td>0</td>\n",
       "      <td>0</td>\n",
       "      <td>0</td>\n",
       "      <td>0</td>\n",
       "    </tr>\n",
       "    <tr>\n",
       "      <th>14</th>\n",
       "      <td>Specific immune recognition by lymphocytes: an...</td>\n",
       "      <td>53(3)</td>\n",
       "      <td>225-41</td>\n",
       "      <td>In this review, we analyze data pertinent to t...</td>\n",
       "      <td>The Quarterly review of biology</td>\n",
       "      <td>Warr|G W|GW|;Marchalonis|J J|JJ|</td>\n",
       "      <td>1978</td>\n",
       "      <td>30984</td>\n",
       "      <td>D000220:Adaptation, Biological; D000818:Animal...</td>\n",
       "      <td>D016428:Journal Article; D013487:Research Supp...</td>\n",
       "      <td>...</td>\n",
       "      <td>1</td>\n",
       "      <td>0</td>\n",
       "      <td>0</td>\n",
       "      <td>0</td>\n",
       "      <td>0</td>\n",
       "      <td>0</td>\n",
       "      <td>0</td>\n",
       "      <td>0</td>\n",
       "      <td>0</td>\n",
       "      <td>0</td>\n",
       "    </tr>\n",
       "    <tr>\n",
       "      <th>19</th>\n",
       "      <td>An analysis of measured and calculated calcium...</td>\n",
       "      <td>38(7)</td>\n",
       "      <td>659-67</td>\n",
       "      <td>Potentiometrically measured ionized calcium (C...</td>\n",
       "      <td>Scandinavian journal of clinical and laborator...</td>\n",
       "      <td>Pedersen|K O|KO|</td>\n",
       "      <td>1978</td>\n",
       "      <td>30989</td>\n",
       "      <td>D000293:Adolescent; D000328:Adult; D000367:Age...</td>\n",
       "      <td>D016428:Journal Article</td>\n",
       "      <td>...</td>\n",
       "      <td>0</td>\n",
       "      <td>0</td>\n",
       "      <td>0</td>\n",
       "      <td>0</td>\n",
       "      <td>0</td>\n",
       "      <td>0</td>\n",
       "      <td>0</td>\n",
       "      <td>0</td>\n",
       "      <td>0</td>\n",
       "      <td>0</td>\n",
       "    </tr>\n",
       "    <tr>\n",
       "      <th>20</th>\n",
       "      <td>The value of immunoelectroosmophoresis (IEOP) ...</td>\n",
       "      <td>10(3)</td>\n",
       "      <td>173-6</td>\n",
       "      <td>Immunoelectroosmophoresis (IEOP) has been used...</td>\n",
       "      <td>Scandinavian journal of infectious diseases</td>\n",
       "      <td>Wiernik|A|A|;Jarstrand|C|C|;Tunevall|G|G|</td>\n",
       "      <td>1978</td>\n",
       "      <td>30990</td>\n",
       "      <td>D000900:Anti-Bacterial Agents; D000942:Antigen...</td>\n",
       "      <td>D016428:Journal Article</td>\n",
       "      <td>...</td>\n",
       "      <td>0</td>\n",
       "      <td>0</td>\n",
       "      <td>0</td>\n",
       "      <td>0</td>\n",
       "      <td>0</td>\n",
       "      <td>0</td>\n",
       "      <td>0</td>\n",
       "      <td>0</td>\n",
       "      <td>0</td>\n",
       "      <td>0</td>\n",
       "    </tr>\n",
       "  </tbody>\n",
       "</table>\n",
       "<p>5 rows × 9236 columns</p>\n",
       "</div>"
      ],
      "text/plain": [
       "                                                title  issue   pages  \\\n",
       "10  [Isolation and properties of preparations the ...  14(5)   683-9   \n",
       "11  Potentiation of apomorphine action in rats by ...   9(3)   375-8   \n",
       "14  Specific immune recognition by lymphocytes: an...  53(3)  225-41   \n",
       "19  An analysis of measured and calculated calcium...  38(7)  659-67   \n",
       "20  The value of immunoelectroosmophoresis (IEOP) ...  10(3)   173-6   \n",
       "\n",
       "                                             abstract  \\\n",
       "10  The paper describes a modified method of isola...   \n",
       "11  Although the antiparkinsonian activity of 1-pr...   \n",
       "14  In this review, we analyze data pertinent to t...   \n",
       "19  Potentiometrically measured ionized calcium (C...   \n",
       "20  Immunoelectroosmophoresis (IEOP) has been used...   \n",
       "\n",
       "                                              journal  \\\n",
       "10            Prikladnaia biokhimiia i mikrobiologiia   \n",
       "11           Pharmacology, biochemistry, and behavior   \n",
       "14                    The Quarterly review of biology   \n",
       "19  Scandinavian journal of clinical and laborator...   \n",
       "20        Scandinavian journal of infectious diseases   \n",
       "\n",
       "                                             authors pubdate   pmid  \\\n",
       "10                  Shvedova|T A|TA|;Petrova|A N|AN|    1978  30978   \n",
       "11  Kostrzewa|R M|RM|;Kastin|A J|AJ|;Sobrian|S K|SK|    1978  30981   \n",
       "14                  Warr|G W|GW|;Marchalonis|J J|JJ|    1978  30984   \n",
       "19                                  Pedersen|K O|KO|    1978  30989   \n",
       "20         Wiernik|A|A|;Jarstrand|C|C|;Tunevall|G|G|    1978  30990   \n",
       "\n",
       "                                           mesh_terms  \\\n",
       "10  D015061:1,4-alpha-Glucan Branching Enzyme; D00...   \n",
       "11  D000818:Animals; D001058:Apomorphine; D001522:...   \n",
       "14  D000220:Adaptation, Biological; D000818:Animal...   \n",
       "19  D000293:Adolescent; D000328:Adult; D000367:Age...   \n",
       "20  D000900:Anti-Bacterial Agents; D000942:Antigen...   \n",
       "\n",
       "                                    publication_types  ... D003063:Cnidaria  \\\n",
       "10  D003160:Comparative Study; D004740:English Abs...  ...                0   \n",
       "11  D003160:Comparative Study; D016428:Journal Art...  ...                0   \n",
       "14  D016428:Journal Article; D013487:Research Supp...  ...                1   \n",
       "19                            D016428:Journal Article  ...                0   \n",
       "20                            D016428:Journal Article  ...                0   \n",
       "\n",
       "   D006261:Headache D010559:Personnel Management D000075:Acepromazine  \\\n",
       "10                0                            0                    0   \n",
       "11                0                            0                    0   \n",
       "14                0                            0                    0   \n",
       "19                0                            0                    0   \n",
       "20                0                            0                    0   \n",
       "\n",
       "    D014594:Uterine Neoplasms D009029:Mosaic Viruses D009108:Mumps Vaccine  \\\n",
       "10                          0                      0                     0   \n",
       "11                          0                      0                     0   \n",
       "14                          0                      0                     0   \n",
       "19                          0                      0                     0   \n",
       "20                          0                      0                     0   \n",
       "\n",
       "   D007417:Intestinal Polyps D007165:Immunosuppression Therapy  \\\n",
       "10                         0                                 0   \n",
       "11                         0                                 0   \n",
       "14                         0                                 0   \n",
       "19                         0                                 0   \n",
       "20                         0                                 0   \n",
       "\n",
       "   D013229:Stearic Acids  \n",
       "10                     0  \n",
       "11                     0  \n",
       "14                     0  \n",
       "19                     0  \n",
       "20                     0  \n",
       "\n",
       "[5 rows x 9236 columns]"
      ]
     },
     "execution_count": 33,
     "metadata": {},
     "output_type": "execute_result"
    }
   ],
   "source": [
    "df.head()"
   ]
  },
  {
   "cell_type": "markdown",
   "metadata": {},
   "source": [
    "Get the counts of the mesh terms"
   ]
  },
  {
   "cell_type": "code",
   "execution_count": 34,
   "metadata": {},
   "outputs": [
    {
     "name": "stderr",
     "output_type": "stream",
     "text": [
      "100%|██████████| 9214/9214 [00:01<00:00, 9138.26it/s] \n"
     ]
    },
    {
     "data": {
      "text/html": [
       "<div>\n",
       "<style scoped>\n",
       "    .dataframe tbody tr th:only-of-type {\n",
       "        vertical-align: middle;\n",
       "    }\n",
       "\n",
       "    .dataframe tbody tr th {\n",
       "        vertical-align: top;\n",
       "    }\n",
       "\n",
       "    .dataframe thead th {\n",
       "        text-align: right;\n",
       "    }\n",
       "</style>\n",
       "<table border=\"1\" class=\"dataframe\">\n",
       "  <thead>\n",
       "    <tr style=\"text-align: right;\">\n",
       "      <th></th>\n",
       "      <th>mesh_term</th>\n",
       "      <th>count</th>\n",
       "    </tr>\n",
       "  </thead>\n",
       "  <tbody>\n",
       "    <tr>\n",
       "      <th>0</th>\n",
       "      <td>D006801:Humans</td>\n",
       "      <td>6879</td>\n",
       "    </tr>\n",
       "    <tr>\n",
       "      <th>1</th>\n",
       "      <td>D000818:Animals</td>\n",
       "      <td>5824</td>\n",
       "    </tr>\n",
       "    <tr>\n",
       "      <th>2</th>\n",
       "      <td>D008297:Male</td>\n",
       "      <td>4396</td>\n",
       "    </tr>\n",
       "    <tr>\n",
       "      <th>3</th>\n",
       "      <td>D005260:Female</td>\n",
       "      <td>3955</td>\n",
       "    </tr>\n",
       "    <tr>\n",
       "      <th>4</th>\n",
       "      <td>D006863:Hydrogen-Ion Concentration</td>\n",
       "      <td>2786</td>\n",
       "    </tr>\n",
       "    <tr>\n",
       "      <th>5</th>\n",
       "      <td>D000328:Adult</td>\n",
       "      <td>2343</td>\n",
       "    </tr>\n",
       "    <tr>\n",
       "      <th>6</th>\n",
       "      <td>D051381:Rats</td>\n",
       "      <td>1855</td>\n",
       "    </tr>\n",
       "    <tr>\n",
       "      <th>7</th>\n",
       "      <td>D008875:Middle Aged</td>\n",
       "      <td>1758</td>\n",
       "    </tr>\n",
       "    <tr>\n",
       "      <th>8</th>\n",
       "      <td>D013997:Time Factors</td>\n",
       "      <td>1384</td>\n",
       "    </tr>\n",
       "    <tr>\n",
       "      <th>9</th>\n",
       "      <td>D013194:Staining and Labeling</td>\n",
       "      <td>1208</td>\n",
       "    </tr>\n",
       "    <tr>\n",
       "      <th>10</th>\n",
       "      <td>D051379:Mice</td>\n",
       "      <td>1176</td>\n",
       "    </tr>\n",
       "    <tr>\n",
       "      <th>11</th>\n",
       "      <td>D000368:Aged</td>\n",
       "      <td>1119</td>\n",
       "    </tr>\n",
       "    <tr>\n",
       "      <th>12</th>\n",
       "      <td>D000939:Epitopes</td>\n",
       "      <td>1110</td>\n",
       "    </tr>\n",
       "    <tr>\n",
       "      <th>13</th>\n",
       "      <td>D007700:Kinetics</td>\n",
       "      <td>1005</td>\n",
       "    </tr>\n",
       "    <tr>\n",
       "      <th>14</th>\n",
       "      <td>D000293:Adolescent</td>\n",
       "      <td>923</td>\n",
       "    </tr>\n",
       "    <tr>\n",
       "      <th>15</th>\n",
       "      <td>D011817:Rabbits</td>\n",
       "      <td>755</td>\n",
       "    </tr>\n",
       "    <tr>\n",
       "      <th>16</th>\n",
       "      <td>D011247:Pregnancy</td>\n",
       "      <td>712</td>\n",
       "    </tr>\n",
       "    <tr>\n",
       "      <th>17</th>\n",
       "      <td>D002648:Child</td>\n",
       "      <td>674</td>\n",
       "    </tr>\n",
       "    <tr>\n",
       "      <th>18</th>\n",
       "      <td>D066298:In Vitro Techniques</td>\n",
       "      <td>634</td>\n",
       "    </tr>\n",
       "    <tr>\n",
       "      <th>19</th>\n",
       "      <td>D008099:Liver</td>\n",
       "      <td>603</td>\n",
       "    </tr>\n",
       "  </tbody>\n",
       "</table>\n",
       "</div>"
      ],
      "text/plain": [
       "                             mesh_term  count\n",
       "0                       D006801:Humans   6879\n",
       "1                      D000818:Animals   5824\n",
       "2                         D008297:Male   4396\n",
       "3                       D005260:Female   3955\n",
       "4   D006863:Hydrogen-Ion Concentration   2786\n",
       "5                        D000328:Adult   2343\n",
       "6                         D051381:Rats   1855\n",
       "7                  D008875:Middle Aged   1758\n",
       "8                 D013997:Time Factors   1384\n",
       "9        D013194:Staining and Labeling   1208\n",
       "10                        D051379:Mice   1176\n",
       "11                        D000368:Aged   1119\n",
       "12                    D000939:Epitopes   1110\n",
       "13                    D007700:Kinetics   1005\n",
       "14                  D000293:Adolescent    923\n",
       "15                     D011817:Rabbits    755\n",
       "16                   D011247:Pregnancy    712\n",
       "17                       D002648:Child    674\n",
       "18         D066298:In Vitro Techniques    634\n",
       "19                       D008099:Liver    603"
      ]
     },
     "execution_count": 34,
     "metadata": {},
     "output_type": "execute_result"
    }
   ],
   "source": [
    "mesh_term_counts = []\n",
    "for mesh_term in tqdm(unique_mesh_terms):\n",
    "    mesh_term_counts.append((mesh_term, df[mesh_term].sum()))\n",
    "mesh_term_counts = sorted(mesh_term_counts, key=lambda x: x[1], reverse=True)\n",
    "mesh_term_df = pd.DataFrame(mesh_term_counts, columns=['mesh_term', 'count'])\n",
    "mesh_term_df.head(20)"
   ]
  },
  {
   "cell_type": "markdown",
   "metadata": {},
   "source": [
    "Plot the top 20 mesh terms"
   ]
  },
  {
   "cell_type": "code",
   "execution_count": 35,
   "metadata": {},
   "outputs": [
    {
     "data": {
      "text/plain": [
       "<AxesSubplot: xlabel='mesh_term'>"
      ]
     },
     "execution_count": 35,
     "metadata": {},
     "output_type": "execute_result"
    },
    {
     "data": {
      "image/png": "[encoded data removed]",
      "text/plain": [
       "<Figure size 2000x1000 with 1 Axes>"
      ]
     },
     "metadata": {},
     "output_type": "display_data"
    }
   ],
   "source": [
    "mesh_term_df.head(20).plot.bar(x='mesh_term', y='count', figsize=(20, 10))"
   ]
  },
  {
   "cell_type": "markdown",
   "metadata": {},
   "source": [
    "How many mesh terms are there per article?"
   ]
  },
  {
   "cell_type": "code",
   "execution_count": 36,
   "metadata": {},
   "outputs": [],
   "source": [
    "\n",
    "count_of_mesh_terms_per_article = df.iloc[:,22:].sum(axis=1).value_counts()\n"
   ]
  },
  {
   "cell_type": "code",
   "execution_count": 37,
   "metadata": {},
   "outputs": [
    {
     "data": {
      "text/plain": [
       "<AxesSubplot: >"
      ]
     },
     "execution_count": 37,
     "metadata": {},
     "output_type": "execute_result"
    },
    {
     "data": {
      "image/png": "[encoded data removed]",
      "text/plain": [
       "<Figure size 2000x1000 with 1 Axes>"
      ]
     },
     "metadata": {},
     "output_type": "display_data"
    }
   ],
   "source": [
    "count_of_mesh_terms_per_article.plot.bar(figsize=(20, 10))"
   ]
  },
  {
   "cell_type": "markdown",
   "metadata": {},
   "source": [
    "Let's start training and testing"
   ]
  },
  {
   "cell_type": "code",
   "execution_count": 38,
   "metadata": {},
   "outputs": [],
   "source": [
    "train, test = train_test_split(df, random_state=42, test_size=0.33, shuffle=True)"
   ]
  },
  {
   "cell_type": "code",
   "execution_count": 39,
   "metadata": {},
   "outputs": [
    {
     "name": "stdout",
     "output_type": "stream",
     "text": [
      "(8988,)\n",
      "(4427,)\n"
     ]
    }
   ],
   "source": [
    "X_train = train.abstract\n",
    "X_test = test.abstract\n",
    "print(X_train.shape)\n",
    "print(X_test.shape)"
   ]
  },
  {
   "cell_type": "markdown",
   "metadata": {},
   "source": [
    "Create a pipeline with a multi label classifier"
   ]
  },
  {
   "cell_type": "code",
   "execution_count": 42,
   "metadata": {},
   "outputs": [
    {
     "name": "stderr",
     "output_type": "stream",
     "text": [
      "  0%|          | 1/9214 [00:01<3:41:49,  1.44s/it]"
     ]
    },
    {
     "name": "stdout",
     "output_type": "stream",
     "text": [
      "mesh_term:  D001058:Apomorphine\n",
      "17\n",
      "0\n",
      "Test accuracy is 0.9961599277162865\n",
      "Test precision is 0.0\n",
      "Test recall is 0.0\n"
     ]
    },
    {
     "name": "stderr",
     "output_type": "stream",
     "text": [
      "  0%|          | 2/9214 [00:02<3:36:32,  1.41s/it]"
     ]
    },
    {
     "name": "stdout",
     "output_type": "stream",
     "text": [
      "mesh_term:  D010555:Personality Inventory\n",
      "0\n",
      "0\n",
      "Test accuracy is 1.0\n",
      "Test precision is 0.0\n",
      "Test recall is 0.0\n"
     ]
    },
    {
     "name": "stderr",
     "output_type": "stream",
     "text": [
      "  0%|          | 3/9214 [00:04<3:28:28,  1.36s/it]"
     ]
    },
    {
     "name": "stdout",
     "output_type": "stream",
     "text": [
      "mesh_term:  D005954:Glucosephosphate Dehydrogenase\n",
      "14\n",
      "0\n",
      "Test accuracy is 0.9968375875310594\n",
      "Test precision is 0.0\n",
      "Test recall is 0.0\n"
     ]
    },
    {
     "name": "stderr",
     "output_type": "stream",
     "text": [
      "  0%|          | 4/9214 [00:05<3:24:35,  1.33s/it]"
     ]
    },
    {
     "name": "stdout",
     "output_type": "stream",
     "text": [
      "mesh_term:  D000369:Aged, 80 and over\n",
      "0\n",
      "0\n",
      "Test accuracy is 1.0\n",
      "Test precision is 0.0\n",
      "Test recall is 0.0\n"
     ]
    },
    {
     "name": "stderr",
     "output_type": "stream",
     "text": [
      "  0%|          | 5/9214 [00:06<3:22:47,  1.32s/it]"
     ]
    },
    {
     "name": "stdout",
     "output_type": "stream",
     "text": [
      "mesh_term:  D011197:Potassium Radioisotopes\n",
      "0\n",
      "0\n",
      "Test accuracy is 1.0\n",
      "Test precision is 0.0\n",
      "Test recall is 0.0\n"
     ]
    },
    {
     "name": "stderr",
     "output_type": "stream",
     "text": [
      "  0%|          | 6/9214 [00:08<3:22:28,  1.32s/it]"
     ]
    },
    {
     "name": "stdout",
     "output_type": "stream",
     "text": [
      "mesh_term:  D015004:Yellow Fever\n",
      "3\n",
      "0\n",
      "Test accuracy is 0.999322340185227\n",
      "Test precision is 0.0\n",
      "Test recall is 0.0\n"
     ]
    },
    {
     "name": "stderr",
     "output_type": "stream",
     "text": [
      "  0%|          | 7/9214 [00:09<3:21:17,  1.31s/it]"
     ]
    },
    {
     "name": "stdout",
     "output_type": "stream",
     "text": [
      "mesh_term:  D004825:Epiglottis\n",
      "1\n",
      "0\n",
      "Test accuracy is 0.9997741133950757\n",
      "Test precision is 0.0\n",
      "Test recall is 0.0\n"
     ]
    },
    {
     "name": "stderr",
     "output_type": "stream",
     "text": [
      "  0%|          | 8/9214 [00:10<3:19:18,  1.30s/it]"
     ]
    },
    {
     "name": "stdout",
     "output_type": "stream",
     "text": [
      "mesh_term:  D001886:Bordetella pertussis\n",
      "7\n",
      "0\n",
      "Test accuracy is 0.9984187937655297\n",
      "Test precision is 0.0\n",
      "Test recall is 0.0\n"
     ]
    },
    {
     "name": "stderr",
     "output_type": "stream",
     "text": [
      "  0%|          | 9/9214 [00:11<3:16:16,  1.28s/it]"
     ]
    },
    {
     "name": "stdout",
     "output_type": "stream",
     "text": [
      "mesh_term:  D000883:Anthropology\n",
      "2\n",
      "0\n",
      "Test accuracy is 0.9995482267901513\n",
      "Test precision is 0.0\n",
      "Test recall is 0.0\n"
     ]
    },
    {
     "name": "stderr",
     "output_type": "stream",
     "text": [
      "  0%|          | 10/9214 [00:13<3:14:59,  1.27s/it]"
     ]
    },
    {
     "name": "stdout",
     "output_type": "stream",
     "text": [
      "mesh_term:  D005609:Free Radicals\n",
      "6\n",
      "0\n",
      "Test accuracy is 0.9986446803704541\n",
      "Test precision is 0.0\n",
      "Test recall is 0.0\n"
     ]
    },
    {
     "name": "stderr",
     "output_type": "stream",
     "text": [
      "  0%|          | 11/9214 [00:14<3:13:45,  1.26s/it]"
     ]
    },
    {
     "name": "stdout",
     "output_type": "stream",
     "text": [
      "mesh_term:  D006428:Hemipelvectomy\n",
      "1\n",
      "0\n",
      "Test accuracy is 0.9997741133950757\n",
      "Test precision is 0.0\n",
      "Test recall is 0.0\n"
     ]
    },
    {
     "name": "stderr",
     "output_type": "stream",
     "text": [
      "  0%|          | 12/9214 [00:15<3:16:56,  1.28s/it]"
     ]
    },
    {
     "name": "stdout",
     "output_type": "stream",
     "text": [
      "mesh_term:  D006408:Hematoma, Subdural\n",
      "4\n",
      "0\n",
      "Test accuracy is 0.9990964535803026\n",
      "Test precision is 0.0\n",
      "Test recall is 0.0\n"
     ]
    },
    {
     "name": "stderr",
     "output_type": "stream",
     "text": [
      "  0%|          | 13/9214 [00:16<3:16:28,  1.28s/it]"
     ]
    },
    {
     "name": "stdout",
     "output_type": "stream",
     "text": [
      "mesh_term:  D006551:Hernia, Hiatal\n",
      "5\n",
      "0\n",
      "Test accuracy is 0.9988705669753783\n",
      "Test precision is 0.0\n",
      "Test recall is 0.0\n"
     ]
    },
    {
     "name": "stderr",
     "output_type": "stream",
     "text": [
      "  0%|          | 14/9214 [00:18<3:15:38,  1.28s/it]"
     ]
    },
    {
     "name": "stdout",
     "output_type": "stream",
     "text": [
      "mesh_term:  D010529:Peritoneal Cavity\n",
      "3\n",
      "0\n",
      "Test accuracy is 0.999322340185227\n",
      "Test precision is 0.0\n",
      "Test recall is 0.0\n"
     ]
    },
    {
     "name": "stderr",
     "output_type": "stream",
     "text": [
      "  0%|          | 15/9214 [00:19<3:14:00,  1.27s/it]"
     ]
    },
    {
     "name": "stdout",
     "output_type": "stream",
     "text": [
      "mesh_term:  D016193:G1 Phase\n",
      "1\n",
      "0\n",
      "Test accuracy is 0.9997741133950757\n",
      "Test precision is 0.0\n",
      "Test recall is 0.0\n"
     ]
    },
    {
     "name": "stderr",
     "output_type": "stream",
     "text": [
      "  0%|          | 16/9214 [00:20<3:14:55,  1.27s/it]"
     ]
    },
    {
     "name": "stdout",
     "output_type": "stream",
     "text": [
      "mesh_term:  D005263:Femoral Artery\n",
      "3\n",
      "0\n",
      "Test accuracy is 0.999322340185227\n",
      "Test precision is 0.0\n",
      "Test recall is 0.0\n"
     ]
    },
    {
     "name": "stderr",
     "output_type": "stream",
     "text": [
      "  0%|          | 17/9214 [00:21<3:14:29,  1.27s/it]"
     ]
    },
    {
     "name": "stdout",
     "output_type": "stream",
     "text": [
      "mesh_term:  D009470:Muscle Spindles\n",
      "0\n",
      "0\n",
      "Test accuracy is 1.0\n",
      "Test precision is 0.0\n",
      "Test recall is 0.0\n"
     ]
    },
    {
     "name": "stderr",
     "output_type": "stream",
     "text": [
      "  0%|          | 18/9214 [00:23<3:13:45,  1.26s/it]"
     ]
    },
    {
     "name": "stdout",
     "output_type": "stream",
     "text": [
      "mesh_term:  D011738:Pyrilamine\n",
      "0\n",
      "0\n",
      "Test accuracy is 1.0\n",
      "Test precision is 0.0\n",
      "Test recall is 0.0\n"
     ]
    },
    {
     "name": "stderr",
     "output_type": "stream",
     "text": [
      "  0%|          | 19/9214 [00:24<3:14:58,  1.27s/it]"
     ]
    },
    {
     "name": "stdout",
     "output_type": "stream",
     "text": [
      "mesh_term:  D001283:Atrioventricular Node\n",
      "4\n",
      "0\n",
      "Test accuracy is 0.9990964535803026\n",
      "Test precision is 0.0\n",
      "Test recall is 0.0\n"
     ]
    },
    {
     "name": "stderr",
     "output_type": "stream",
     "text": [
      "  0%|          | 20/9214 [00:26<3:24:13,  1.33s/it]"
     ]
    },
    {
     "name": "stdout",
     "output_type": "stream",
     "text": [
      "mesh_term:  D010405:Penicillinase\n",
      "3\n",
      "0\n",
      "Test accuracy is 0.999322340185227\n",
      "Test precision is 0.0\n",
      "Test recall is 0.0\n"
     ]
    },
    {
     "name": "stderr",
     "output_type": "stream",
     "text": [
      "  0%|          | 21/9214 [00:27<3:21:54,  1.32s/it]"
     ]
    },
    {
     "name": "stdout",
     "output_type": "stream",
     "text": [
      "mesh_term:  D005191:Family Characteristics\n",
      "5\n",
      "0\n",
      "Test accuracy is 0.9988705669753783\n",
      "Test precision is 0.0\n",
      "Test recall is 0.0\n"
     ]
    },
    {
     "name": "stderr",
     "output_type": "stream",
     "text": [
      "  0%|          | 22/9214 [00:28<3:22:11,  1.32s/it]"
     ]
    },
    {
     "name": "stdout",
     "output_type": "stream",
     "text": [
      "mesh_term:  D009280:Naphthaleneacetic Acids\n",
      "2\n",
      "0\n",
      "Test accuracy is 0.9995482267901513\n",
      "Test precision is 0.0\n",
      "Test recall is 0.0\n"
     ]
    },
    {
     "name": "stderr",
     "output_type": "stream",
     "text": [
      "  0%|          | 23/9214 [00:29<3:20:43,  1.31s/it]"
     ]
    },
    {
     "name": "stdout",
     "output_type": "stream",
     "text": [
      "mesh_term:  D006328:Cardiac Catheterization\n",
      "10\n",
      "0\n",
      "Test accuracy is 0.9977411339507567\n",
      "Test precision is 0.0\n",
      "Test recall is 0.0\n"
     ]
    },
    {
     "name": "stderr",
     "output_type": "stream",
     "text": [
      "  0%|          | 24/9214 [00:31<3:19:12,  1.30s/it]"
     ]
    },
    {
     "name": "stdout",
     "output_type": "stream",
     "text": [
      "mesh_term:  D011018:Pneumonia, Pneumococcal\n",
      "7\n",
      "0\n",
      "Test accuracy is 0.9984187937655297\n",
      "Test precision is 0.0\n",
      "Test recall is 0.0\n"
     ]
    },
    {
     "name": "stderr",
     "output_type": "stream",
     "text": [
      "  0%|          | 25/9214 [00:32<3:20:44,  1.31s/it]"
     ]
    },
    {
     "name": "stdout",
     "output_type": "stream",
     "text": [
      "mesh_term:  D005837:Genitalia, Male\n",
      "2\n",
      "0\n",
      "Test accuracy is 0.9995482267901513\n",
      "Test precision is 0.0\n",
      "Test recall is 0.0\n"
     ]
    },
    {
     "name": "stderr",
     "output_type": "stream",
     "text": [
      "  0%|          | 26/9214 [00:34<3:33:51,  1.40s/it]"
     ]
    },
    {
     "name": "stdout",
     "output_type": "stream",
     "text": [
      "mesh_term:  D012440:Saccharomyces\n",
      "3\n",
      "0\n",
      "Test accuracy is 0.999322340185227\n",
      "Test precision is 0.0\n",
      "Test recall is 0.0\n"
     ]
    },
    {
     "name": "stderr",
     "output_type": "stream",
     "text": [
      "  0%|          | 27/9214 [00:35<3:48:27,  1.49s/it]"
     ]
    },
    {
     "name": "stdout",
     "output_type": "stream",
     "text": [
      "mesh_term:  D001170:Arthritis, Infectious\n",
      "4\n",
      "0\n",
      "Test accuracy is 0.9990964535803026\n",
      "Test precision is 0.0\n",
      "Test recall is 0.0\n"
     ]
    },
    {
     "name": "stderr",
     "output_type": "stream",
     "text": [
      "  0%|          | 28/9214 [00:37<3:42:45,  1.45s/it]"
     ]
    },
    {
     "name": "stdout",
     "output_type": "stream",
     "text": [
      "mesh_term:  D012952:Societies\n",
      "1\n",
      "0\n",
      "Test accuracy is 0.9997741133950757\n",
      "Test precision is 0.0\n",
      "Test recall is 0.0\n"
     ]
    },
    {
     "name": "stderr",
     "output_type": "stream",
     "text": [
      "  0%|          | 29/9214 [00:38<3:34:50,  1.40s/it]"
     ]
    },
    {
     "name": "stdout",
     "output_type": "stream",
     "text": [
      "mesh_term:  D008003:Phthiraptera\n",
      "1\n",
      "0\n",
      "Test accuracy is 0.9997741133950757\n",
      "Test precision is 0.0\n",
      "Test recall is 0.0\n"
     ]
    },
    {
     "name": "stderr",
     "output_type": "stream",
     "text": [
      "  0%|          | 30/9214 [00:39<3:29:00,  1.37s/it]"
     ]
    },
    {
     "name": "stdout",
     "output_type": "stream",
     "text": [
      "mesh_term:  D010908:Pituitary Hormones, Anterior\n",
      "2\n",
      "0\n",
      "Test accuracy is 0.9995482267901513\n",
      "Test precision is 0.0\n",
      "Test recall is 0.0\n"
     ]
    },
    {
     "name": "stderr",
     "output_type": "stream",
     "text": [
      "  0%|          | 31/9214 [00:41<3:26:49,  1.35s/it]"
     ]
    },
    {
     "name": "stdout",
     "output_type": "stream",
     "text": [
      "mesh_term:  D020964:Embryo Loss\n",
      "1\n",
      "0\n",
      "Test accuracy is 0.9997741133950757\n",
      "Test precision is 0.0\n",
      "Test recall is 0.0\n"
     ]
    },
    {
     "name": "stderr",
     "output_type": "stream",
     "text": [
      "  0%|          | 32/9214 [00:42<3:22:57,  1.33s/it]"
     ]
    },
    {
     "name": "stdout",
     "output_type": "stream",
     "text": [
      "mesh_term:  D009807:Odontogenic Cysts\n",
      "1\n",
      "0\n",
      "Test accuracy is 0.9997741133950757\n",
      "Test precision is 0.0\n",
      "Test recall is 0.0\n"
     ]
    },
    {
     "name": "stderr",
     "output_type": "stream",
     "text": [
      "  0%|          | 33/9214 [00:43<3:26:40,  1.35s/it]"
     ]
    },
    {
     "name": "stdout",
     "output_type": "stream",
     "text": [
      "mesh_term:  D001758:Blastomyces\n",
      "1\n",
      "0\n",
      "Test accuracy is 0.9997741133950757\n",
      "Test precision is 0.0\n",
      "Test recall is 0.0\n"
     ]
    },
    {
     "name": "stderr",
     "output_type": "stream",
     "text": [
      "  0%|          | 34/9214 [00:45<3:23:22,  1.33s/it]"
     ]
    },
    {
     "name": "stdout",
     "output_type": "stream",
     "text": [
      "mesh_term:  D000432:Methanol\n",
      "5\n",
      "0\n",
      "Test accuracy is 0.9988705669753783\n",
      "Test precision is 0.0\n",
      "Test recall is 0.0\n"
     ]
    },
    {
     "name": "stderr",
     "output_type": "stream",
     "text": [
      "  0%|          | 35/9214 [00:46<3:18:59,  1.30s/it]"
     ]
    },
    {
     "name": "stdout",
     "output_type": "stream",
     "text": [
      "mesh_term:  D007799:Lanatosides\n",
      "0\n",
      "0\n",
      "Test accuracy is 1.0\n",
      "Test precision is 0.0\n",
      "Test recall is 0.0\n"
     ]
    },
    {
     "name": "stderr",
     "output_type": "stream",
     "text": [
      "  0%|          | 36/9214 [00:47<3:20:45,  1.31s/it]"
     ]
    },
    {
     "name": "stdout",
     "output_type": "stream",
     "text": [
      "mesh_term:  D002322:Career Mobility\n",
      "0\n",
      "0\n",
      "Test accuracy is 1.0\n",
      "Test precision is 0.0\n",
      "Test recall is 0.0\n"
     ]
    },
    {
     "name": "stderr",
     "output_type": "stream",
     "text": [
      "  0%|          | 37/9214 [00:49<3:30:56,  1.38s/it]"
     ]
    },
    {
     "name": "stdout",
     "output_type": "stream",
     "text": [
      "mesh_term:  D011658:Pulmonary Fibrosis\n",
      "3\n",
      "0\n",
      "Test accuracy is 0.999322340185227\n",
      "Test precision is 0.0\n",
      "Test recall is 0.0\n"
     ]
    },
    {
     "name": "stderr",
     "output_type": "stream",
     "text": [
      "  0%|          | 38/9214 [00:50<3:37:23,  1.42s/it]"
     ]
    },
    {
     "name": "stdout",
     "output_type": "stream",
     "text": [
      "mesh_term:  D000626:Aminopeptidases\n",
      "4\n",
      "0\n",
      "Test accuracy is 0.9990964535803026\n",
      "Test precision is 0.0\n",
      "Test recall is 0.0\n"
     ]
    },
    {
     "name": "stderr",
     "output_type": "stream",
     "text": [
      "  0%|          | 38/9214 [00:52<3:30:21,  1.38s/it]\n"
     ]
    },
    {
     "ename": "KeyboardInterrupt",
     "evalue": "",
     "output_type": "error",
     "traceback": [
      "\u001b[0;31m---------------------------------------------------------------------------\u001b[0m",
      "\u001b[0;31mKeyboardInterrupt\u001b[0m                         Traceback (most recent call last)",
      "\u001b[1;32m/Users/vagishvela/Projects/BGSU/bgsu_cs_thesis/notebooks/analysis/attempt-data-science.ipynb Cell 27\u001b[0m in \u001b[0;36m<cell line: 7>\u001b[0;34m()\u001b[0m\n\u001b[1;32m     <a href='vscode-notebook-cell:/Users/vagishvela/Projects/BGSU/bgsu_cs_thesis/notebooks/analysis/attempt-data-science.ipynb#X34sZmlsZQ%3D%3D?line=11'>12</a>\u001b[0m NB_pipeline\u001b[39m.\u001b[39mfit(X_train, train[mesh_term])\n\u001b[1;32m     <a href='vscode-notebook-cell:/Users/vagishvela/Projects/BGSU/bgsu_cs_thesis/notebooks/analysis/attempt-data-science.ipynb#X34sZmlsZQ%3D%3D?line=12'>13</a>\u001b[0m \u001b[39m# compute the testing accuracy\u001b[39;00m\n\u001b[0;32m---> <a href='vscode-notebook-cell:/Users/vagishvela/Projects/BGSU/bgsu_cs_thesis/notebooks/analysis/attempt-data-science.ipynb#X34sZmlsZQ%3D%3D?line=13'>14</a>\u001b[0m prediction \u001b[39m=\u001b[39m NB_pipeline\u001b[39m.\u001b[39;49mpredict(X_test)\n\u001b[1;32m     <a href='vscode-notebook-cell:/Users/vagishvela/Projects/BGSU/bgsu_cs_thesis/notebooks/analysis/attempt-data-science.ipynb#X34sZmlsZQ%3D%3D?line=14'>15</a>\u001b[0m \u001b[39mprint\u001b[39m(\u001b[39m'\u001b[39m\u001b[39mmesh_term: \u001b[39m\u001b[39m'\u001b[39m, mesh_term)\n\u001b[1;32m     <a href='vscode-notebook-cell:/Users/vagishvela/Projects/BGSU/bgsu_cs_thesis/notebooks/analysis/attempt-data-science.ipynb#X34sZmlsZQ%3D%3D?line=15'>16</a>\u001b[0m \u001b[39mprint\u001b[39m(test[mesh_term]\u001b[39m.\u001b[39msum())\n",
      "File \u001b[0;32m~/Projects/BGSU/bgsu_cs_thesis/.venv/lib/python3.9/site-packages/sklearn/pipeline.py:457\u001b[0m, in \u001b[0;36mPipeline.predict\u001b[0;34m(self, X, **predict_params)\u001b[0m\n\u001b[1;32m    455\u001b[0m Xt \u001b[39m=\u001b[39m X\n\u001b[1;32m    456\u001b[0m \u001b[39mfor\u001b[39;00m _, name, transform \u001b[39min\u001b[39;00m \u001b[39mself\u001b[39m\u001b[39m.\u001b[39m_iter(with_final\u001b[39m=\u001b[39m\u001b[39mFalse\u001b[39;00m):\n\u001b[0;32m--> 457\u001b[0m     Xt \u001b[39m=\u001b[39m transform\u001b[39m.\u001b[39;49mtransform(Xt)\n\u001b[1;32m    458\u001b[0m \u001b[39mreturn\u001b[39;00m \u001b[39mself\u001b[39m\u001b[39m.\u001b[39msteps[\u001b[39m-\u001b[39m\u001b[39m1\u001b[39m][\u001b[39m1\u001b[39m]\u001b[39m.\u001b[39mpredict(Xt, \u001b[39m*\u001b[39m\u001b[39m*\u001b[39mpredict_params)\n",
      "File \u001b[0;32m~/Projects/BGSU/bgsu_cs_thesis/.venv/lib/python3.9/site-packages/sklearn/feature_extraction/text.py:2103\u001b[0m, in \u001b[0;36mTfidfVectorizer.transform\u001b[0;34m(self, raw_documents)\u001b[0m\n\u001b[1;32m   2086\u001b[0m \u001b[39m\"\"\"Transform documents to document-term matrix.\u001b[39;00m\n\u001b[1;32m   2087\u001b[0m \n\u001b[1;32m   2088\u001b[0m \u001b[39mUses the vocabulary and document frequencies (df) learned by fit (or\u001b[39;00m\n\u001b[0;32m   (...)\u001b[0m\n\u001b[1;32m   2099\u001b[0m \u001b[39m    Tf-idf-weighted document-term matrix.\u001b[39;00m\n\u001b[1;32m   2100\u001b[0m \u001b[39m\"\"\"\u001b[39;00m\n\u001b[1;32m   2101\u001b[0m check_is_fitted(\u001b[39mself\u001b[39m, msg\u001b[39m=\u001b[39m\u001b[39m\"\u001b[39m\u001b[39mThe TF-IDF vectorizer is not fitted\u001b[39m\u001b[39m\"\u001b[39m)\n\u001b[0;32m-> 2103\u001b[0m X \u001b[39m=\u001b[39m \u001b[39msuper\u001b[39;49m()\u001b[39m.\u001b[39;49mtransform(raw_documents)\n\u001b[1;32m   2104\u001b[0m \u001b[39mreturn\u001b[39;00m \u001b[39mself\u001b[39m\u001b[39m.\u001b[39m_tfidf\u001b[39m.\u001b[39mtransform(X, copy\u001b[39m=\u001b[39m\u001b[39mFalse\u001b[39;00m)\n",
      "File \u001b[0;32m~/Projects/BGSU/bgsu_cs_thesis/.venv/lib/python3.9/site-packages/sklearn/feature_extraction/text.py:1387\u001b[0m, in \u001b[0;36mCountVectorizer.transform\u001b[0;34m(self, raw_documents)\u001b[0m\n\u001b[1;32m   1384\u001b[0m \u001b[39mself\u001b[39m\u001b[39m.\u001b[39m_check_vocabulary()\n\u001b[1;32m   1386\u001b[0m \u001b[39m# use the same matrix-building strategy as fit_transform\u001b[39;00m\n\u001b[0;32m-> 1387\u001b[0m _, X \u001b[39m=\u001b[39m \u001b[39mself\u001b[39;49m\u001b[39m.\u001b[39;49m_count_vocab(raw_documents, fixed_vocab\u001b[39m=\u001b[39;49m\u001b[39mTrue\u001b[39;49;00m)\n\u001b[1;32m   1388\u001b[0m \u001b[39mif\u001b[39;00m \u001b[39mself\u001b[39m\u001b[39m.\u001b[39mbinary:\n\u001b[1;32m   1389\u001b[0m     X\u001b[39m.\u001b[39mdata\u001b[39m.\u001b[39mfill(\u001b[39m1\u001b[39m)\n",
      "File \u001b[0;32m~/Projects/BGSU/bgsu_cs_thesis/.venv/lib/python3.9/site-packages/sklearn/feature_extraction/text.py:1215\u001b[0m, in \u001b[0;36mCountVectorizer._count_vocab\u001b[0;34m(self, raw_documents, fixed_vocab)\u001b[0m\n\u001b[1;32m   1213\u001b[0m         feature_counter[feature_idx] \u001b[39m=\u001b[39m \u001b[39m1\u001b[39m\n\u001b[1;32m   1214\u001b[0m     \u001b[39melse\u001b[39;00m:\n\u001b[0;32m-> 1215\u001b[0m         feature_counter[feature_idx] \u001b[39m+\u001b[39m\u001b[39m=\u001b[39m \u001b[39m1\u001b[39m\n\u001b[1;32m   1216\u001b[0m \u001b[39mexcept\u001b[39;00m \u001b[39mKeyError\u001b[39;00m:\n\u001b[1;32m   1217\u001b[0m     \u001b[39m# Ignore out-of-vocabulary items for fixed_vocab=True\u001b[39;00m\n\u001b[1;32m   1218\u001b[0m     \u001b[39mcontinue\u001b[39;00m\n",
      "\u001b[0;31mKeyboardInterrupt\u001b[0m: "
     ]
    }
   ],
   "source": [
    "NB_pipeline = Pipeline([\n",
    "                ('tfidf', TfidfVectorizer(stop_words=stop_words)),\n",
    "                ('clf', OneVsRestClassifier(MultinomialNB(\n",
    "                    fit_prior=True, class_prior=None))),\n",
    "            ])\n",
    "\n",
    "with open('accuracy.csv','w') as f1:\n",
    "    writer=csv.writer(f1, delimiter=',',lineterminator='\\n')\n",
    "    writer.writerow(['mesh_term','term_count','prediction_count','accuracy','precision','recall'])\n",
    "    for mesh_term in tqdm(unique_mesh_terms):\n",
    "        # train the model using X_dtm & y\n",
    "        NB_pipeline.fit(X_train, train[mesh_term])\n",
    "        # compute the testing accuracy\n",
    "        prediction = NB_pipeline.predict(X_test)\n",
    "        print('mesh_term: ', mesh_term)\n",
    "        print(test[mesh_term].sum())\n",
    "        print(prediction.sum())\n",
    "        print('Test accuracy is {}'.format(accuracy_score(test[mesh_term], prediction)))\n",
    "        print('Test precision is {}'.format(precision_score(test[mesh_term], prediction)))\n",
    "        print('Test recall is {}'.format(recall_score(test[mesh_term], prediction)))\n",
    "\n",
    "\n",
    "        writer.writerow([\n",
    "            mesh_term, \n",
    "            test[mesh_term].sum(),\n",
    "            prediction.sum(),\n",
    "            accuracy_score(test[mesh_term], prediction), \n",
    "            precision_score(test[mesh_term], prediction), \n",
    "            recall_score(test[mesh_term], prediction)\n",
    "            ])"
   ]
  },
  {
   "cell_type": "code",
   "execution_count": null,
   "metadata": {},
   "outputs": [],
   "source": []
  }
 ],
 "metadata": {
  "kernelspec": {
   "display_name": "Python 3 (ipykernel)",
   "language": "python",
   "name": "python3"
  },
  "language_info": {
   "codemirror_mode": {
    "name": "ipython",
    "version": 3
   },
   "file_extension": ".py",
   "mimetype": "text/x-python",
   "name": "python",
   "nbconvert_exporter": "python",
   "pygments_lexer": "ipython3",
   "version": "3.9.5"
  },
  "vscode": {
   "interpreter": {
    "hash": "d56fa87c78b39559b1c08cc8dd1bbbef7b63a80b01222ac7427efbc04ea0dd45"
   }
  }
 },
 "nbformat": 4,
 "nbformat_minor": 2
}
