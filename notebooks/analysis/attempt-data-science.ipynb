{
 "cells": [
  {
   "cell_type": "code",
   "execution_count": 2,
   "metadata": {},
   "outputs": [],
   "source": [
    "IS_OSC = False"
   ]
  },
  {
   "cell_type": "code",
   "execution_count": 74,
   "metadata": {},
   "outputs": [],
   "source": [
    "# Setup script to run on OSC\n",
    "# conda install scikit-learn matplotlib nltk seaborn\n",
    "# pip install git+https://github.com/titipata/pubmed_parser.git@0.3.1\n",
    "# conda install -c conda-forge hummingbird-ml\n",
    "# conda install ipykernel\n",
    "# ipython kernel install --user --name=thesis\n"
   ]
  },
  {
   "cell_type": "code",
   "execution_count": 59,
   "metadata": {},
   "outputs": [],
   "source": [
    "if IS_OSC:\n",
    "    try:\n",
    "        import pubmed_parser\n",
    "    except ImportError as e:\n",
    "        %pip install git+https://github.com/titipata/pubmed_parser.git@0.3.1\n",
    "    try:\n",
    "        import sklearn\n",
    "    except ImportError as e:\n",
    "        %pip install scikit-learn\n",
    "    try:\n",
    "        import hummingbird.ml\n",
    "    except ImportError as e:\n",
    "        %pip install hummingbird-ml\n",
    "        %pip install torch\n",
    "    try:\n",
    "        import matplotlib\n",
    "    except ImportError as e:\n",
    "        %pip install matplotlib\n",
    "    try:\n",
    "        from nltk.corpus import stopwords\n",
    "    except ImportError as e:\n",
    "        import nltk\n",
    "        nltk.download('stopwords')\n",
    "    try:\n",
    "        import seaborn\n",
    "    except ImportError as e:\n",
    "        %pip install seaborn\n",
    "    import nltk\n",
    "    nltk.download('stopwords')"
   ]
  },
  {
   "cell_type": "code",
   "execution_count": 1,
   "metadata": {},
   "outputs": [],
   "source": [
    "%matplotlib inline\n",
    "import re\n",
    "import matplotlib\n",
    "import numpy as np\n",
    "import matplotlib.pyplot as plt\n",
    "import pandas as pd\n",
    "from sklearn.model_selection import train_test_split\n",
    "from sklearn.feature_extraction.text import TfidfVectorizer\n",
    "from sklearn.naive_bayes import MultinomialNB\n",
    "from sklearn.metrics import accuracy_score, precision_score, recall_score\n",
    "from sklearn.multiclass import OneVsRestClassifier\n",
    "from nltk.corpus import stopwords\n",
    "stop_words = set(stopwords.words('english'))\n",
    "from sklearn.svm import LinearSVC\n",
    "from sklearn.linear_model import LogisticRegression\n",
    "from sklearn.pipeline import Pipeline\n",
    "import seaborn as sns\n",
    "import pubmed_parser as pp\n",
    "import csv\n",
    "from tqdm import tqdm\n",
    "from hummingbird.ml import convert\n",
    "\n",
    "import warnings\n",
    "warnings.filterwarnings('ignore')"
   ]
  },
  {
   "cell_type": "markdown",
   "metadata": {},
   "source": [
    "Let's look at one pub-med dictionary entry:"
   ]
  },
  {
   "cell_type": "code",
   "execution_count": 3,
   "metadata": {},
   "outputs": [],
   "source": [
    "if IS_OSC:\n",
    "    data_path = \"/ftp.ncbi.nlm.nih.gov/pubmed/baseline/\"\n",
    "else:\n",
    "    data_path = '../../data/raw'\n",
    "path_xml = pp.list_xml_path(data_path) # list all xml paths under directory\n",
    "pubmed_dict = pp.parse_medline_xml(path_xml[0]) # dictionary output"
   ]
  },
  {
   "cell_type": "markdown",
   "metadata": {},
   "source": [
    "Load it into a dataframe and output the head"
   ]
  },
  {
   "cell_type": "code",
   "execution_count": 4,
   "metadata": {},
   "outputs": [
    {
     "data": {
      "text/html": [
       "<div>\n",
       "<style scoped>\n",
       "    .dataframe tbody tr th:only-of-type {\n",
       "        vertical-align: middle;\n",
       "    }\n",
       "\n",
       "    .dataframe tbody tr th {\n",
       "        vertical-align: top;\n",
       "    }\n",
       "\n",
       "    .dataframe thead th {\n",
       "        text-align: right;\n",
       "    }\n",
       "</style>\n",
       "<table border=\"1\" class=\"dataframe\">\n",
       "  <thead>\n",
       "    <tr style=\"text-align: right;\">\n",
       "      <th></th>\n",
       "      <th>title</th>\n",
       "      <th>issue</th>\n",
       "      <th>pages</th>\n",
       "      <th>abstract</th>\n",
       "      <th>journal</th>\n",
       "      <th>authors</th>\n",
       "      <th>pubdate</th>\n",
       "      <th>pmid</th>\n",
       "      <th>mesh_terms</th>\n",
       "      <th>publication_types</th>\n",
       "      <th>...</th>\n",
       "      <th>doi</th>\n",
       "      <th>references</th>\n",
       "      <th>delete</th>\n",
       "      <th>affiliations</th>\n",
       "      <th>pmc</th>\n",
       "      <th>other_id</th>\n",
       "      <th>medline_ta</th>\n",
       "      <th>nlm_unique_id</th>\n",
       "      <th>issn_linking</th>\n",
       "      <th>country</th>\n",
       "    </tr>\n",
       "  </thead>\n",
       "  <tbody>\n",
       "    <tr>\n",
       "      <th>0</th>\n",
       "      <td>[Beta-blockers and arterial hypertension in th...</td>\n",
       "      <td>7(31)</td>\n",
       "      <td>2807-9</td>\n",
       "      <td></td>\n",
       "      <td>La Nouvelle presse medicale</td>\n",
       "      <td>Tcherdakoff|P|P|</td>\n",
       "      <td>1978</td>\n",
       "      <td>30970</td>\n",
       "      <td>D000319:Adrenergic beta-Antagonists; D005260:F...</td>\n",
       "      <td>D016428:Journal Article</td>\n",
       "      <td>...</td>\n",
       "      <td></td>\n",
       "      <td></td>\n",
       "      <td>False</td>\n",
       "      <td></td>\n",
       "      <td></td>\n",
       "      <td></td>\n",
       "      <td>Nouv Presse Med</td>\n",
       "      <td>0312552</td>\n",
       "      <td>0301-1518</td>\n",
       "      <td>France</td>\n",
       "    </tr>\n",
       "    <tr>\n",
       "      <th>1</th>\n",
       "      <td>[beta-blockers and high risk pregnancies. View...</td>\n",
       "      <td>7(31)</td>\n",
       "      <td>2811-2</td>\n",
       "      <td></td>\n",
       "      <td>La Nouvelle presse medicale</td>\n",
       "      <td>Dubois|D|D|;Petitcolas|J|J|</td>\n",
       "      <td>1978</td>\n",
       "      <td>30971</td>\n",
       "      <td>D000070:Acebutolol; D000319:Adrenergic beta-An...</td>\n",
       "      <td>D016428:Journal Article</td>\n",
       "      <td>...</td>\n",
       "      <td></td>\n",
       "      <td></td>\n",
       "      <td>False</td>\n",
       "      <td></td>\n",
       "      <td></td>\n",
       "      <td></td>\n",
       "      <td>Nouv Presse Med</td>\n",
       "      <td>0312552</td>\n",
       "      <td>0301-1518</td>\n",
       "      <td>France</td>\n",
       "    </tr>\n",
       "    <tr>\n",
       "      <th>2</th>\n",
       "      <td>[Surface defense mechanisms of the nasal mucosa].</td>\n",
       "      <td>33(35)</td>\n",
       "      <td>1391-3</td>\n",
       "      <td></td>\n",
       "      <td>Polski tygodnik lekarski (Warsaw, Poland : 1960)</td>\n",
       "      <td>Makowska|W|W|;Zawisza|E|E|</td>\n",
       "      <td>1978</td>\n",
       "      <td>30972</td>\n",
       "      <td>D001424:Bacterial Infections; D002633:Chemotax...</td>\n",
       "      <td>D016428:Journal Article; D016454:Review</td>\n",
       "      <td>...</td>\n",
       "      <td></td>\n",
       "      <td></td>\n",
       "      <td>False</td>\n",
       "      <td></td>\n",
       "      <td></td>\n",
       "      <td></td>\n",
       "      <td>Pol Tyg Lek</td>\n",
       "      <td>9705468</td>\n",
       "      <td>0032-3756</td>\n",
       "      <td>Poland</td>\n",
       "    </tr>\n",
       "    <tr>\n",
       "      <th>3</th>\n",
       "      <td>[Pharmacological treatment of coronary disease].</td>\n",
       "      <td>33(44)</td>\n",
       "      <td>1721-4</td>\n",
       "      <td></td>\n",
       "      <td>Polski tygodnik lekarski (Warsaw, Poland : 1960)</td>\n",
       "      <td>Krotkiewski|A|A|</td>\n",
       "      <td>1978</td>\n",
       "      <td>30973</td>\n",
       "      <td>D000319:Adrenergic beta-Antagonists; D003327:C...</td>\n",
       "      <td>D016428:Journal Article</td>\n",
       "      <td>...</td>\n",
       "      <td></td>\n",
       "      <td></td>\n",
       "      <td>False</td>\n",
       "      <td></td>\n",
       "      <td></td>\n",
       "      <td></td>\n",
       "      <td>Pol Tyg Lek</td>\n",
       "      <td>9705468</td>\n",
       "      <td>0032-3756</td>\n",
       "      <td>Poland</td>\n",
       "    </tr>\n",
       "    <tr>\n",
       "      <th>4</th>\n",
       "      <td>Treating the outpatient schizophrenic.</td>\n",
       "      <td>64(5)</td>\n",
       "      <td>48-56</td>\n",
       "      <td></td>\n",
       "      <td>Postgraduate medicine</td>\n",
       "      <td>Gelenberg|A J|AJ|</td>\n",
       "      <td>1978</td>\n",
       "      <td>30974</td>\n",
       "      <td>D000208:Acute Disease; D000553:Ambulatory Care...</td>\n",
       "      <td>D016428:Journal Article</td>\n",
       "      <td>...</td>\n",
       "      <td>10.1080/00325481.1978.11714969</td>\n",
       "      <td></td>\n",
       "      <td>False</td>\n",
       "      <td></td>\n",
       "      <td></td>\n",
       "      <td></td>\n",
       "      <td>Postgrad Med</td>\n",
       "      <td>0401147</td>\n",
       "      <td>0032-5481</td>\n",
       "      <td>England</td>\n",
       "    </tr>\n",
       "  </tbody>\n",
       "</table>\n",
       "<p>5 rows × 22 columns</p>\n",
       "</div>"
      ],
      "text/plain": [
       "                                               title   issue   pages abstract  \\\n",
       "0  [Beta-blockers and arterial hypertension in th...   7(31)  2807-9            \n",
       "1  [beta-blockers and high risk pregnancies. View...   7(31)  2811-2            \n",
       "2  [Surface defense mechanisms of the nasal mucosa].  33(35)  1391-3            \n",
       "3   [Pharmacological treatment of coronary disease].  33(44)  1721-4            \n",
       "4             Treating the outpatient schizophrenic.   64(5)   48-56            \n",
       "\n",
       "                                            journal  \\\n",
       "0                       La Nouvelle presse medicale   \n",
       "1                       La Nouvelle presse medicale   \n",
       "2  Polski tygodnik lekarski (Warsaw, Poland : 1960)   \n",
       "3  Polski tygodnik lekarski (Warsaw, Poland : 1960)   \n",
       "4                             Postgraduate medicine   \n",
       "\n",
       "                       authors pubdate   pmid  \\\n",
       "0             Tcherdakoff|P|P|    1978  30970   \n",
       "1  Dubois|D|D|;Petitcolas|J|J|    1978  30971   \n",
       "2   Makowska|W|W|;Zawisza|E|E|    1978  30972   \n",
       "3             Krotkiewski|A|A|    1978  30973   \n",
       "4            Gelenberg|A J|AJ|    1978  30974   \n",
       "\n",
       "                                          mesh_terms  \\\n",
       "0  D000319:Adrenergic beta-Antagonists; D005260:F...   \n",
       "1  D000070:Acebutolol; D000319:Adrenergic beta-An...   \n",
       "2  D001424:Bacterial Infections; D002633:Chemotax...   \n",
       "3  D000319:Adrenergic beta-Antagonists; D003327:C...   \n",
       "4  D000208:Acute Disease; D000553:Ambulatory Care...   \n",
       "\n",
       "                         publication_types  ...  \\\n",
       "0                  D016428:Journal Article  ...   \n",
       "1                  D016428:Journal Article  ...   \n",
       "2  D016428:Journal Article; D016454:Review  ...   \n",
       "3                  D016428:Journal Article  ...   \n",
       "4                  D016428:Journal Article  ...   \n",
       "\n",
       "                              doi references delete affiliations  pmc  \\\n",
       "0                                             False                     \n",
       "1                                             False                     \n",
       "2                                             False                     \n",
       "3                                             False                     \n",
       "4  10.1080/00325481.1978.11714969             False                     \n",
       "\n",
       "  other_id       medline_ta nlm_unique_id issn_linking  country  \n",
       "0           Nouv Presse Med       0312552    0301-1518   France  \n",
       "1           Nouv Presse Med       0312552    0301-1518   France  \n",
       "2               Pol Tyg Lek       9705468    0032-3756   Poland  \n",
       "3               Pol Tyg Lek       9705468    0032-3756   Poland  \n",
       "4              Postgrad Med       0401147    0032-5481  England  \n",
       "\n",
       "[5 rows x 22 columns]"
      ]
     },
     "execution_count": 4,
     "metadata": {},
     "output_type": "execute_result"
    }
   ],
   "source": [
    "df = pd.DataFrame(pubmed_dict)\n",
    "df.head()"
   ]
  },
  {
   "cell_type": "markdown",
   "metadata": {},
   "source": [
    "Get the unique mesh terms"
   ]
  },
  {
   "cell_type": "code",
   "execution_count": 5,
   "metadata": {},
   "outputs": [
    {
     "data": {
      "text/plain": [
       "['D001058:Apomorphine',\n",
       " 'D010555:Personality Inventory',\n",
       " 'D005954:Glucosephosphate Dehydrogenase',\n",
       " 'D000369:Aged, 80 and over',\n",
       " 'D011197:Potassium Radioisotopes',\n",
       " 'D014317:Tritolyl Phosphates',\n",
       " 'D005513:Food Inspection',\n",
       " 'D015004:Yellow Fever',\n",
       " 'D015226:Dinucleoside Phosphates',\n",
       " 'D009302:Nasopharyngeal Diseases',\n",
       " 'D004825:Epiglottis',\n",
       " 'D001886:Bordetella pertussis',\n",
       " 'D000883:Anthropology',\n",
       " 'D005609:Free Radicals',\n",
       " 'D006428:Hemipelvectomy',\n",
       " 'D049668:History, 15th Century',\n",
       " 'D006408:Hematoma, Subdural',\n",
       " 'D006551:Hernia, Hiatal',\n",
       " 'D010529:Peritoneal Cavity',\n",
       " 'D016193:G1 Phase']"
      ]
     },
     "execution_count": 5,
     "metadata": {},
     "output_type": "execute_result"
    }
   ],
   "source": [
    "mesh_terms_arr = []\n",
    "[mesh_terms_arr.extend(mesh_terms.split('; ')) for mesh_terms in df.mesh_terms.to_list()]\n",
    "unique_mesh_terms = set(mesh_terms_arr)\n",
    "\n",
    "# Display the first 20 unique terms\n",
    "list(unique_mesh_terms)[:20]"
   ]
  },
  {
   "cell_type": "markdown",
   "metadata": {},
   "source": [
    "Add the mesh terms to the dataframe as columns. This does take about 5 minutes to run per volume."
   ]
  },
  {
   "cell_type": "code",
   "execution_count": 6,
   "metadata": {},
   "outputs": [
    {
     "name": "stderr",
     "output_type": "stream",
     "text": [
      "100%|██████████| 10792/10792 [02:44<00:00, 65.71it/s]\n"
     ]
    }
   ],
   "source": [
    "for mesh_term in tqdm(unique_mesh_terms):\n",
    "    df[mesh_term] = df.mesh_terms.apply(lambda x: 1 if mesh_term in x else 0)"
   ]
  },
  {
   "cell_type": "markdown",
   "metadata": {},
   "source": [
    "Display the head of the dataframe to see if the mesh terms were added"
   ]
  },
  {
   "cell_type": "code",
   "execution_count": 7,
   "metadata": {},
   "outputs": [
    {
     "data": {
      "text/html": [
       "<div>\n",
       "<style scoped>\n",
       "    .dataframe tbody tr th:only-of-type {\n",
       "        vertical-align: middle;\n",
       "    }\n",
       "\n",
       "    .dataframe tbody tr th {\n",
       "        vertical-align: top;\n",
       "    }\n",
       "\n",
       "    .dataframe thead th {\n",
       "        text-align: right;\n",
       "    }\n",
       "</style>\n",
       "<table border=\"1\" class=\"dataframe\">\n",
       "  <thead>\n",
       "    <tr style=\"text-align: right;\">\n",
       "      <th></th>\n",
       "      <th>title</th>\n",
       "      <th>issue</th>\n",
       "      <th>pages</th>\n",
       "      <th>abstract</th>\n",
       "      <th>journal</th>\n",
       "      <th>authors</th>\n",
       "      <th>pubdate</th>\n",
       "      <th>pmid</th>\n",
       "      <th>mesh_terms</th>\n",
       "      <th>publication_types</th>\n",
       "      <th>...</th>\n",
       "      <th>D010559:Personnel Management</th>\n",
       "      <th>D015119:Aminocaproic Acid</th>\n",
       "      <th>D000075:Acepromazine</th>\n",
       "      <th>D014594:Uterine Neoplasms</th>\n",
       "      <th>D016920:Meningitis, Bacterial</th>\n",
       "      <th>D009029:Mosaic Viruses</th>\n",
       "      <th>D009108:Mumps Vaccine</th>\n",
       "      <th>D007417:Intestinal Polyps</th>\n",
       "      <th>D007165:Immunosuppression Therapy</th>\n",
       "      <th>D013229:Stearic Acids</th>\n",
       "    </tr>\n",
       "  </thead>\n",
       "  <tbody>\n",
       "    <tr>\n",
       "      <th>0</th>\n",
       "      <td>[Beta-blockers and arterial hypertension in th...</td>\n",
       "      <td>7(31)</td>\n",
       "      <td>2807-9</td>\n",
       "      <td></td>\n",
       "      <td>La Nouvelle presse medicale</td>\n",
       "      <td>Tcherdakoff|P|P|</td>\n",
       "      <td>1978</td>\n",
       "      <td>30970</td>\n",
       "      <td>D000319:Adrenergic beta-Antagonists; D005260:F...</td>\n",
       "      <td>D016428:Journal Article</td>\n",
       "      <td>...</td>\n",
       "      <td>0</td>\n",
       "      <td>0</td>\n",
       "      <td>0</td>\n",
       "      <td>0</td>\n",
       "      <td>0</td>\n",
       "      <td>0</td>\n",
       "      <td>0</td>\n",
       "      <td>0</td>\n",
       "      <td>0</td>\n",
       "      <td>0</td>\n",
       "    </tr>\n",
       "    <tr>\n",
       "      <th>1</th>\n",
       "      <td>[beta-blockers and high risk pregnancies. View...</td>\n",
       "      <td>7(31)</td>\n",
       "      <td>2811-2</td>\n",
       "      <td></td>\n",
       "      <td>La Nouvelle presse medicale</td>\n",
       "      <td>Dubois|D|D|;Petitcolas|J|J|</td>\n",
       "      <td>1978</td>\n",
       "      <td>30971</td>\n",
       "      <td>D000070:Acebutolol; D000319:Adrenergic beta-An...</td>\n",
       "      <td>D016428:Journal Article</td>\n",
       "      <td>...</td>\n",
       "      <td>0</td>\n",
       "      <td>0</td>\n",
       "      <td>0</td>\n",
       "      <td>0</td>\n",
       "      <td>0</td>\n",
       "      <td>0</td>\n",
       "      <td>0</td>\n",
       "      <td>0</td>\n",
       "      <td>0</td>\n",
       "      <td>0</td>\n",
       "    </tr>\n",
       "    <tr>\n",
       "      <th>2</th>\n",
       "      <td>[Surface defense mechanisms of the nasal mucosa].</td>\n",
       "      <td>33(35)</td>\n",
       "      <td>1391-3</td>\n",
       "      <td></td>\n",
       "      <td>Polski tygodnik lekarski (Warsaw, Poland : 1960)</td>\n",
       "      <td>Makowska|W|W|;Zawisza|E|E|</td>\n",
       "      <td>1978</td>\n",
       "      <td>30972</td>\n",
       "      <td>D001424:Bacterial Infections; D002633:Chemotax...</td>\n",
       "      <td>D016428:Journal Article; D016454:Review</td>\n",
       "      <td>...</td>\n",
       "      <td>0</td>\n",
       "      <td>0</td>\n",
       "      <td>0</td>\n",
       "      <td>0</td>\n",
       "      <td>0</td>\n",
       "      <td>0</td>\n",
       "      <td>0</td>\n",
       "      <td>0</td>\n",
       "      <td>0</td>\n",
       "      <td>0</td>\n",
       "    </tr>\n",
       "    <tr>\n",
       "      <th>3</th>\n",
       "      <td>[Pharmacological treatment of coronary disease].</td>\n",
       "      <td>33(44)</td>\n",
       "      <td>1721-4</td>\n",
       "      <td></td>\n",
       "      <td>Polski tygodnik lekarski (Warsaw, Poland : 1960)</td>\n",
       "      <td>Krotkiewski|A|A|</td>\n",
       "      <td>1978</td>\n",
       "      <td>30973</td>\n",
       "      <td>D000319:Adrenergic beta-Antagonists; D003327:C...</td>\n",
       "      <td>D016428:Journal Article</td>\n",
       "      <td>...</td>\n",
       "      <td>0</td>\n",
       "      <td>0</td>\n",
       "      <td>0</td>\n",
       "      <td>0</td>\n",
       "      <td>0</td>\n",
       "      <td>0</td>\n",
       "      <td>0</td>\n",
       "      <td>0</td>\n",
       "      <td>0</td>\n",
       "      <td>0</td>\n",
       "    </tr>\n",
       "    <tr>\n",
       "      <th>4</th>\n",
       "      <td>Treating the outpatient schizophrenic.</td>\n",
       "      <td>64(5)</td>\n",
       "      <td>48-56</td>\n",
       "      <td></td>\n",
       "      <td>Postgraduate medicine</td>\n",
       "      <td>Gelenberg|A J|AJ|</td>\n",
       "      <td>1978</td>\n",
       "      <td>30974</td>\n",
       "      <td>D000208:Acute Disease; D000553:Ambulatory Care...</td>\n",
       "      <td>D016428:Journal Article</td>\n",
       "      <td>...</td>\n",
       "      <td>0</td>\n",
       "      <td>0</td>\n",
       "      <td>0</td>\n",
       "      <td>0</td>\n",
       "      <td>0</td>\n",
       "      <td>0</td>\n",
       "      <td>0</td>\n",
       "      <td>0</td>\n",
       "      <td>0</td>\n",
       "      <td>0</td>\n",
       "    </tr>\n",
       "  </tbody>\n",
       "</table>\n",
       "<p>5 rows × 10814 columns</p>\n",
       "</div>"
      ],
      "text/plain": [
       "                                               title   issue   pages abstract  \\\n",
       "0  [Beta-blockers and arterial hypertension in th...   7(31)  2807-9            \n",
       "1  [beta-blockers and high risk pregnancies. View...   7(31)  2811-2            \n",
       "2  [Surface defense mechanisms of the nasal mucosa].  33(35)  1391-3            \n",
       "3   [Pharmacological treatment of coronary disease].  33(44)  1721-4            \n",
       "4             Treating the outpatient schizophrenic.   64(5)   48-56            \n",
       "\n",
       "                                            journal  \\\n",
       "0                       La Nouvelle presse medicale   \n",
       "1                       La Nouvelle presse medicale   \n",
       "2  Polski tygodnik lekarski (Warsaw, Poland : 1960)   \n",
       "3  Polski tygodnik lekarski (Warsaw, Poland : 1960)   \n",
       "4                             Postgraduate medicine   \n",
       "\n",
       "                       authors pubdate   pmid  \\\n",
       "0             Tcherdakoff|P|P|    1978  30970   \n",
       "1  Dubois|D|D|;Petitcolas|J|J|    1978  30971   \n",
       "2   Makowska|W|W|;Zawisza|E|E|    1978  30972   \n",
       "3             Krotkiewski|A|A|    1978  30973   \n",
       "4            Gelenberg|A J|AJ|    1978  30974   \n",
       "\n",
       "                                          mesh_terms  \\\n",
       "0  D000319:Adrenergic beta-Antagonists; D005260:F...   \n",
       "1  D000070:Acebutolol; D000319:Adrenergic beta-An...   \n",
       "2  D001424:Bacterial Infections; D002633:Chemotax...   \n",
       "3  D000319:Adrenergic beta-Antagonists; D003327:C...   \n",
       "4  D000208:Acute Disease; D000553:Ambulatory Care...   \n",
       "\n",
       "                         publication_types  ... D010559:Personnel Management  \\\n",
       "0                  D016428:Journal Article  ...                            0   \n",
       "1                  D016428:Journal Article  ...                            0   \n",
       "2  D016428:Journal Article; D016454:Review  ...                            0   \n",
       "3                  D016428:Journal Article  ...                            0   \n",
       "4                  D016428:Journal Article  ...                            0   \n",
       "\n",
       "  D015119:Aminocaproic Acid D000075:Acepromazine D014594:Uterine Neoplasms  \\\n",
       "0                         0                    0                         0   \n",
       "1                         0                    0                         0   \n",
       "2                         0                    0                         0   \n",
       "3                         0                    0                         0   \n",
       "4                         0                    0                         0   \n",
       "\n",
       "   D016920:Meningitis, Bacterial D009029:Mosaic Viruses D009108:Mumps Vaccine  \\\n",
       "0                              0                      0                     0   \n",
       "1                              0                      0                     0   \n",
       "2                              0                      0                     0   \n",
       "3                              0                      0                     0   \n",
       "4                              0                      0                     0   \n",
       "\n",
       "  D007417:Intestinal Polyps D007165:Immunosuppression Therapy  \\\n",
       "0                         0                                 0   \n",
       "1                         0                                 0   \n",
       "2                         0                                 0   \n",
       "3                         0                                 0   \n",
       "4                         0                                 0   \n",
       "\n",
       "  D013229:Stearic Acids  \n",
       "0                     0  \n",
       "1                     0  \n",
       "2                     0  \n",
       "3                     0  \n",
       "4                     0  \n",
       "\n",
       "[5 rows x 10814 columns]"
      ]
     },
     "execution_count": 7,
     "metadata": {},
     "output_type": "execute_result"
    }
   ],
   "source": [
    "df.head()"
   ]
  },
  {
   "cell_type": "markdown",
   "metadata": {},
   "source": [
    "Get the counts of the mesh terms"
   ]
  },
  {
   "cell_type": "code",
   "execution_count": 8,
   "metadata": {},
   "outputs": [
    {
     "name": "stderr",
     "output_type": "stream",
     "text": [
      "100%|██████████| 10792/10792 [00:01<00:00, 7528.92it/s]\n"
     ]
    },
    {
     "data": {
      "text/html": [
       "<div>\n",
       "<style scoped>\n",
       "    .dataframe tbody tr th:only-of-type {\n",
       "        vertical-align: middle;\n",
       "    }\n",
       "\n",
       "    .dataframe tbody tr th {\n",
       "        vertical-align: top;\n",
       "    }\n",
       "\n",
       "    .dataframe thead th {\n",
       "        text-align: right;\n",
       "    }\n",
       "</style>\n",
       "<table border=\"1\" class=\"dataframe\">\n",
       "  <thead>\n",
       "    <tr style=\"text-align: right;\">\n",
       "      <th></th>\n",
       "      <th>mesh_term</th>\n",
       "      <th>count</th>\n",
       "    </tr>\n",
       "  </thead>\n",
       "  <tbody>\n",
       "    <tr>\n",
       "      <th>0</th>\n",
       "      <td>D006801:Humans</td>\n",
       "      <td>17259</td>\n",
       "    </tr>\n",
       "    <tr>\n",
       "      <th>1</th>\n",
       "      <td>D000818:Animals</td>\n",
       "      <td>10858</td>\n",
       "    </tr>\n",
       "    <tr>\n",
       "      <th>2</th>\n",
       "      <td>D008297:Male</td>\n",
       "      <td>7775</td>\n",
       "    </tr>\n",
       "    <tr>\n",
       "      <th>3</th>\n",
       "      <td>D005260:Female</td>\n",
       "      <td>7299</td>\n",
       "    </tr>\n",
       "    <tr>\n",
       "      <th>4</th>\n",
       "      <td>D006863:Hydrogen-Ion Concentration</td>\n",
       "      <td>4507</td>\n",
       "    </tr>\n",
       "    <tr>\n",
       "      <th>5</th>\n",
       "      <td>D000328:Adult</td>\n",
       "      <td>4177</td>\n",
       "    </tr>\n",
       "    <tr>\n",
       "      <th>6</th>\n",
       "      <td>D051381:Rats</td>\n",
       "      <td>3487</td>\n",
       "    </tr>\n",
       "    <tr>\n",
       "      <th>7</th>\n",
       "      <td>D008875:Middle Aged</td>\n",
       "      <td>3093</td>\n",
       "    </tr>\n",
       "    <tr>\n",
       "      <th>8</th>\n",
       "      <td>D013997:Time Factors</td>\n",
       "      <td>2285</td>\n",
       "    </tr>\n",
       "    <tr>\n",
       "      <th>9</th>\n",
       "      <td>D051379:Mice</td>\n",
       "      <td>1945</td>\n",
       "    </tr>\n",
       "    <tr>\n",
       "      <th>10</th>\n",
       "      <td>D000368:Aged</td>\n",
       "      <td>1926</td>\n",
       "    </tr>\n",
       "    <tr>\n",
       "      <th>11</th>\n",
       "      <td>D013194:Staining and Labeling</td>\n",
       "      <td>1802</td>\n",
       "    </tr>\n",
       "    <tr>\n",
       "      <th>12</th>\n",
       "      <td>D007700:Kinetics</td>\n",
       "      <td>1777</td>\n",
       "    </tr>\n",
       "    <tr>\n",
       "      <th>13</th>\n",
       "      <td>D000939:Epitopes</td>\n",
       "      <td>1746</td>\n",
       "    </tr>\n",
       "    <tr>\n",
       "      <th>14</th>\n",
       "      <td>D003226:Congresses as Topic</td>\n",
       "      <td>1663</td>\n",
       "    </tr>\n",
       "    <tr>\n",
       "      <th>15</th>\n",
       "      <td>D000293:Adolescent</td>\n",
       "      <td>1660</td>\n",
       "    </tr>\n",
       "    <tr>\n",
       "      <th>16</th>\n",
       "      <td>D002648:Child</td>\n",
       "      <td>1582</td>\n",
       "    </tr>\n",
       "    <tr>\n",
       "      <th>17</th>\n",
       "      <td>D011247:Pregnancy</td>\n",
       "      <td>1509</td>\n",
       "    </tr>\n",
       "    <tr>\n",
       "      <th>18</th>\n",
       "      <td>D011817:Rabbits</td>\n",
       "      <td>1285</td>\n",
       "    </tr>\n",
       "    <tr>\n",
       "      <th>19</th>\n",
       "      <td>D066298:In Vitro Techniques</td>\n",
       "      <td>1208</td>\n",
       "    </tr>\n",
       "  </tbody>\n",
       "</table>\n",
       "</div>"
      ],
      "text/plain": [
       "                             mesh_term  count\n",
       "0                       D006801:Humans  17259\n",
       "1                      D000818:Animals  10858\n",
       "2                         D008297:Male   7775\n",
       "3                       D005260:Female   7299\n",
       "4   D006863:Hydrogen-Ion Concentration   4507\n",
       "5                        D000328:Adult   4177\n",
       "6                         D051381:Rats   3487\n",
       "7                  D008875:Middle Aged   3093\n",
       "8                 D013997:Time Factors   2285\n",
       "9                         D051379:Mice   1945\n",
       "10                        D000368:Aged   1926\n",
       "11       D013194:Staining and Labeling   1802\n",
       "12                    D007700:Kinetics   1777\n",
       "13                    D000939:Epitopes   1746\n",
       "14         D003226:Congresses as Topic   1663\n",
       "15                  D000293:Adolescent   1660\n",
       "16                       D002648:Child   1582\n",
       "17                   D011247:Pregnancy   1509\n",
       "18                     D011817:Rabbits   1285\n",
       "19         D066298:In Vitro Techniques   1208"
      ]
     },
     "execution_count": 8,
     "metadata": {},
     "output_type": "execute_result"
    }
   ],
   "source": [
    "mesh_term_counts = []\n",
    "for mesh_term in tqdm(unique_mesh_terms):\n",
    "    mesh_term_counts.append((mesh_term, df[mesh_term].sum()))\n",
    "mesh_term_counts = sorted(mesh_term_counts, key=lambda x: x[1], reverse=True)\n",
    "mesh_term_df = pd.DataFrame(mesh_term_counts, columns=['mesh_term', 'count'])\n",
    "mesh_term_df.head(20)"
   ]
  },
  {
   "cell_type": "markdown",
   "metadata": {},
   "source": [
    "Plot the top 20 mesh terms"
   ]
  },
  {
   "cell_type": "code",
   "execution_count": 9,
   "metadata": {},
   "outputs": [
    {
     "data": {
      "text/plain": [
       "<AxesSubplot: xlabel='mesh_term'>"
      ]
     },
     "execution_count": 9,
     "metadata": {},
     "output_type": "execute_result"
    },
    {
     "data": {
      "image/png": "[encoded data removed]",
      "text/plain": [
       "<Figure size 2000x1000 with 1 Axes>"
      ]
     },
     "metadata": {},
     "output_type": "display_data"
    }
   ],
   "source": [
    "mesh_term_df.head(20).plot.bar(x='mesh_term', y='count', figsize=(20, 10))"
   ]
  },
  {
   "cell_type": "markdown",
   "metadata": {},
   "source": [
    "How many mesh terms are there per article?"
   ]
  },
  {
   "cell_type": "code",
   "execution_count": 10,
   "metadata": {},
   "outputs": [],
   "source": [
    "\n",
    "count_of_mesh_terms_per_article = df.iloc[:,22:].sum(axis=1).value_counts()\n"
   ]
  },
  {
   "cell_type": "code",
   "execution_count": 11,
   "metadata": {},
   "outputs": [
    {
     "data": {
      "text/plain": [
       "<AxesSubplot: >"
      ]
     },
     "execution_count": 11,
     "metadata": {},
     "output_type": "execute_result"
    },
    {
     "data": {
      "image/png": "[encoded data removed]",
      "text/plain": [
       "<Figure size 2000x1000 with 1 Axes>"
      ]
     },
     "metadata": {},
     "output_type": "display_data"
    }
   ],
   "source": [
    "count_of_mesh_terms_per_article.plot.bar(figsize=(20, 10))"
   ]
  },
  {
   "cell_type": "markdown",
   "metadata": {},
   "source": [
    "Let's start training and testing"
   ]
  },
  {
   "cell_type": "code",
   "execution_count": 12,
   "metadata": {},
   "outputs": [],
   "source": [
    "train, test = train_test_split(df, random_state=42, test_size=0.33, shuffle=True)"
   ]
  },
  {
   "cell_type": "code",
   "execution_count": 13,
   "metadata": {},
   "outputs": [
    {
     "name": "stdout",
     "output_type": "stream",
     "text": [
      "(20100,)\n",
      "(9900,)\n"
     ]
    }
   ],
   "source": [
    "X_train = train.abstract\n",
    "X_test = test.abstract\n",
    "print(X_train.shape)\n",
    "print(X_test.shape)"
   ]
  },
  {
   "cell_type": "markdown",
   "metadata": {},
   "source": [
    "Create a pipeline with a multi label classifier"
   ]
  },
  {
   "cell_type": "code",
   "execution_count": 14,
   "metadata": {},
   "outputs": [
    {
     "name": "stderr",
     "output_type": "stream",
     "text": [
      "  0%|          | 1/10792 [00:01<4:38:44,  1.55s/it]"
     ]
    },
    {
     "name": "stdout",
     "output_type": "stream",
     "text": [
      "Term: D001058:Apomorphine\n",
      "Test accuracy is 0.9973737373737374\n",
      "Test precision is 0.0\n",
      "Test recall is 0.0\n"
     ]
    },
    {
     "name": "stderr",
     "output_type": "stream",
     "text": [
      "  0%|          | 2/10792 [00:03<4:38:34,  1.55s/it]"
     ]
    },
    {
     "name": "stdout",
     "output_type": "stream",
     "text": [
      "Term: D010555:Personality Inventory\n",
      "Test accuracy is 0.9996969696969698\n",
      "Test precision is 0.0\n",
      "Test recall is 0.0\n"
     ]
    },
    {
     "name": "stderr",
     "output_type": "stream",
     "text": [
      "  0%|          | 3/10792 [00:04<4:29:31,  1.50s/it]"
     ]
    },
    {
     "name": "stdout",
     "output_type": "stream",
     "text": [
      "Term: D005954:Glucosephosphate Dehydrogenase\n",
      "Test accuracy is 0.9980808080808081\n",
      "Test precision is 0.0\n",
      "Test recall is 0.0\n"
     ]
    },
    {
     "name": "stderr",
     "output_type": "stream",
     "text": [
      "  0%|          | 4/10792 [00:05<4:25:07,  1.47s/it]"
     ]
    },
    {
     "name": "stdout",
     "output_type": "stream",
     "text": [
      "Term: D000369:Aged, 80 and over\n",
      "Test accuracy is 0.99989898989899\n",
      "Test precision is 0.0\n",
      "Test recall is 0.0\n"
     ]
    },
    {
     "name": "stderr",
     "output_type": "stream",
     "text": [
      "  0%|          | 5/10792 [00:07<4:24:56,  1.47s/it]"
     ]
    },
    {
     "name": "stdout",
     "output_type": "stream",
     "text": [
      "Term: D011197:Potassium Radioisotopes\n",
      "Test accuracy is 1.0\n",
      "Test precision is 0.0\n",
      "Test recall is 0.0\n"
     ]
    },
    {
     "name": "stderr",
     "output_type": "stream",
     "text": [
      "  0%|          | 6/10792 [00:08<4:28:33,  1.49s/it]"
     ]
    },
    {
     "name": "stdout",
     "output_type": "stream",
     "text": [
      "Term: D014317:Tritolyl Phosphates\n",
      "Test accuracy is 0.99989898989899\n",
      "Test precision is 0.0\n",
      "Test recall is 0.0\n"
     ]
    },
    {
     "name": "stderr",
     "output_type": "stream",
     "text": [
      "  0%|          | 7/10792 [00:10<4:27:53,  1.49s/it]"
     ]
    },
    {
     "name": "stdout",
     "output_type": "stream",
     "text": [
      "Term: D005513:Food Inspection\n",
      "Test accuracy is 0.99989898989899\n",
      "Test precision is 0.0\n",
      "Test recall is 0.0\n"
     ]
    },
    {
     "name": "stderr",
     "output_type": "stream",
     "text": [
      "  0%|          | 8/10792 [00:12<4:41:08,  1.56s/it]"
     ]
    },
    {
     "name": "stdout",
     "output_type": "stream",
     "text": [
      "Term: D015004:Yellow Fever\n",
      "Test accuracy is 0.99989898989899\n",
      "Test precision is 0.0\n",
      "Test recall is 0.0\n"
     ]
    },
    {
     "name": "stderr",
     "output_type": "stream",
     "text": [
      "  0%|          | 9/10792 [00:13<4:34:53,  1.53s/it]"
     ]
    },
    {
     "name": "stdout",
     "output_type": "stream",
     "text": [
      "Term: D015226:Dinucleoside Phosphates\n",
      "Test accuracy is 1.0\n",
      "Test precision is 0.0\n",
      "Test recall is 0.0\n"
     ]
    },
    {
     "name": "stderr",
     "output_type": "stream",
     "text": [
      "  0%|          | 10/10792 [00:15<4:33:28,  1.52s/it]"
     ]
    },
    {
     "name": "stdout",
     "output_type": "stream",
     "text": [
      "Term: D009302:Nasopharyngeal Diseases\n",
      "Test accuracy is 1.0\n",
      "Test precision is 0.0\n",
      "Test recall is 0.0\n"
     ]
    },
    {
     "name": "stderr",
     "output_type": "stream",
     "text": [
      "  0%|          | 11/10792 [00:17<4:56:13,  1.65s/it]"
     ]
    },
    {
     "name": "stdout",
     "output_type": "stream",
     "text": [
      "Term: D004825:Epiglottis\n",
      "Test accuracy is 0.99989898989899\n",
      "Test precision is 0.0\n",
      "Test recall is 0.0\n"
     ]
    },
    {
     "name": "stderr",
     "output_type": "stream",
     "text": [
      "  0%|          | 12/10792 [00:18<4:46:09,  1.59s/it]"
     ]
    },
    {
     "name": "stdout",
     "output_type": "stream",
     "text": [
      "Term: D001886:Bordetella pertussis\n",
      "Test accuracy is 0.998989898989899\n",
      "Test precision is 0.0\n",
      "Test recall is 0.0\n"
     ]
    },
    {
     "name": "stderr",
     "output_type": "stream",
     "text": [
      "  0%|          | 13/10792 [00:20<4:54:20,  1.64s/it]"
     ]
    },
    {
     "name": "stdout",
     "output_type": "stream",
     "text": [
      "Term: D000883:Anthropology\n",
      "Test accuracy is 0.99989898989899\n",
      "Test precision is 0.0\n",
      "Test recall is 0.0\n"
     ]
    },
    {
     "name": "stderr",
     "output_type": "stream",
     "text": [
      "  0%|          | 14/10792 [00:21<4:51:31,  1.62s/it]"
     ]
    },
    {
     "name": "stdout",
     "output_type": "stream",
     "text": [
      "Term: D005609:Free Radicals\n",
      "Test accuracy is 0.9993939393939394\n",
      "Test precision is 0.0\n",
      "Test recall is 0.0\n"
     ]
    },
    {
     "name": "stderr",
     "output_type": "stream",
     "text": [
      "  0%|          | 15/10792 [00:23<4:46:40,  1.60s/it]"
     ]
    },
    {
     "name": "stdout",
     "output_type": "stream",
     "text": [
      "Term: D006428:Hemipelvectomy\n",
      "Test accuracy is 0.99989898989899\n",
      "Test precision is 0.0\n",
      "Test recall is 0.0\n"
     ]
    },
    {
     "name": "stderr",
     "output_type": "stream",
     "text": [
      "  0%|          | 15/10792 [00:24<4:56:15,  1.65s/it]\n"
     ]
    },
    {
     "ename": "KeyboardInterrupt",
     "evalue": "",
     "output_type": "error",
     "traceback": [
      "\u001b[0;31m---------------------------------------------------------------------------\u001b[0m",
      "\u001b[0;31mKeyboardInterrupt\u001b[0m                         Traceback (most recent call last)",
      "\u001b[1;32m/Users/vagishvela/Projects/BGSU/bgsu_cs_thesis/notebooks/analysis/attempt-data-science.ipynb Cell 26\u001b[0m in \u001b[0;36m<cell line: 7>\u001b[0;34m()\u001b[0m\n\u001b[1;32m     <a href='vscode-notebook-cell:/Users/vagishvela/Projects/BGSU/bgsu_cs_thesis/notebooks/analysis/attempt-data-science.ipynb#X34sZmlsZQ%3D%3D?line=16'>17</a>\u001b[0m     prediction \u001b[39m=\u001b[39m model\u001b[39m.\u001b[39mpredict(X_test)\n\u001b[1;32m     <a href='vscode-notebook-cell:/Users/vagishvela/Projects/BGSU/bgsu_cs_thesis/notebooks/analysis/attempt-data-science.ipynb#X34sZmlsZQ%3D%3D?line=17'>18</a>\u001b[0m \u001b[39melse\u001b[39;00m:\n\u001b[0;32m---> <a href='vscode-notebook-cell:/Users/vagishvela/Projects/BGSU/bgsu_cs_thesis/notebooks/analysis/attempt-data-science.ipynb#X34sZmlsZQ%3D%3D?line=18'>19</a>\u001b[0m     prediction \u001b[39m=\u001b[39m NB_pipeline\u001b[39m.\u001b[39;49mpredict(X_test)\n\u001b[1;32m     <a href='vscode-notebook-cell:/Users/vagishvela/Projects/BGSU/bgsu_cs_thesis/notebooks/analysis/attempt-data-science.ipynb#X34sZmlsZQ%3D%3D?line=19'>20</a>\u001b[0m \u001b[39mprint\u001b[39m(\u001b[39m'\u001b[39m\u001b[39mTerm: \u001b[39m\u001b[39m{}\u001b[39;00m\u001b[39m'\u001b[39m\u001b[39m.\u001b[39mformat(mesh_term))\n\u001b[1;32m     <a href='vscode-notebook-cell:/Users/vagishvela/Projects/BGSU/bgsu_cs_thesis/notebooks/analysis/attempt-data-science.ipynb#X34sZmlsZQ%3D%3D?line=20'>21</a>\u001b[0m \u001b[39mprint\u001b[39m(\u001b[39m'\u001b[39m\u001b[39mTest accuracy is \u001b[39m\u001b[39m{}\u001b[39;00m\u001b[39m'\u001b[39m\u001b[39m.\u001b[39mformat(accuracy_score(test[mesh_term], prediction)))\n",
      "File \u001b[0;32m~/Projects/BGSU/bgsu_cs_thesis/.venv/lib/python3.9/site-packages/sklearn/pipeline.py:457\u001b[0m, in \u001b[0;36mPipeline.predict\u001b[0;34m(self, X, **predict_params)\u001b[0m\n\u001b[1;32m    455\u001b[0m Xt \u001b[39m=\u001b[39m X\n\u001b[1;32m    456\u001b[0m \u001b[39mfor\u001b[39;00m _, name, transform \u001b[39min\u001b[39;00m \u001b[39mself\u001b[39m\u001b[39m.\u001b[39m_iter(with_final\u001b[39m=\u001b[39m\u001b[39mFalse\u001b[39;00m):\n\u001b[0;32m--> 457\u001b[0m     Xt \u001b[39m=\u001b[39m transform\u001b[39m.\u001b[39;49mtransform(Xt)\n\u001b[1;32m    458\u001b[0m \u001b[39mreturn\u001b[39;00m \u001b[39mself\u001b[39m\u001b[39m.\u001b[39msteps[\u001b[39m-\u001b[39m\u001b[39m1\u001b[39m][\u001b[39m1\u001b[39m]\u001b[39m.\u001b[39mpredict(Xt, \u001b[39m*\u001b[39m\u001b[39m*\u001b[39mpredict_params)\n",
      "File \u001b[0;32m~/Projects/BGSU/bgsu_cs_thesis/.venv/lib/python3.9/site-packages/sklearn/feature_extraction/text.py:2103\u001b[0m, in \u001b[0;36mTfidfVectorizer.transform\u001b[0;34m(self, raw_documents)\u001b[0m\n\u001b[1;32m   2086\u001b[0m \u001b[39m\"\"\"Transform documents to document-term matrix.\u001b[39;00m\n\u001b[1;32m   2087\u001b[0m \n\u001b[1;32m   2088\u001b[0m \u001b[39mUses the vocabulary and document frequencies (df) learned by fit (or\u001b[39;00m\n\u001b[0;32m   (...)\u001b[0m\n\u001b[1;32m   2099\u001b[0m \u001b[39m    Tf-idf-weighted document-term matrix.\u001b[39;00m\n\u001b[1;32m   2100\u001b[0m \u001b[39m\"\"\"\u001b[39;00m\n\u001b[1;32m   2101\u001b[0m check_is_fitted(\u001b[39mself\u001b[39m, msg\u001b[39m=\u001b[39m\u001b[39m\"\u001b[39m\u001b[39mThe TF-IDF vectorizer is not fitted\u001b[39m\u001b[39m\"\u001b[39m)\n\u001b[0;32m-> 2103\u001b[0m X \u001b[39m=\u001b[39m \u001b[39msuper\u001b[39;49m()\u001b[39m.\u001b[39;49mtransform(raw_documents)\n\u001b[1;32m   2104\u001b[0m \u001b[39mreturn\u001b[39;00m \u001b[39mself\u001b[39m\u001b[39m.\u001b[39m_tfidf\u001b[39m.\u001b[39mtransform(X, copy\u001b[39m=\u001b[39m\u001b[39mFalse\u001b[39;00m)\n",
      "File \u001b[0;32m~/Projects/BGSU/bgsu_cs_thesis/.venv/lib/python3.9/site-packages/sklearn/feature_extraction/text.py:1387\u001b[0m, in \u001b[0;36mCountVectorizer.transform\u001b[0;34m(self, raw_documents)\u001b[0m\n\u001b[1;32m   1384\u001b[0m \u001b[39mself\u001b[39m\u001b[39m.\u001b[39m_check_vocabulary()\n\u001b[1;32m   1386\u001b[0m \u001b[39m# use the same matrix-building strategy as fit_transform\u001b[39;00m\n\u001b[0;32m-> 1387\u001b[0m _, X \u001b[39m=\u001b[39m \u001b[39mself\u001b[39;49m\u001b[39m.\u001b[39;49m_count_vocab(raw_documents, fixed_vocab\u001b[39m=\u001b[39;49m\u001b[39mTrue\u001b[39;49;00m)\n\u001b[1;32m   1388\u001b[0m \u001b[39mif\u001b[39;00m \u001b[39mself\u001b[39m\u001b[39m.\u001b[39mbinary:\n\u001b[1;32m   1389\u001b[0m     X\u001b[39m.\u001b[39mdata\u001b[39m.\u001b[39mfill(\u001b[39m1\u001b[39m)\n",
      "File \u001b[0;32m~/Projects/BGSU/bgsu_cs_thesis/.venv/lib/python3.9/site-packages/sklearn/feature_extraction/text.py:1209\u001b[0m, in \u001b[0;36mCountVectorizer._count_vocab\u001b[0;34m(self, raw_documents, fixed_vocab)\u001b[0m\n\u001b[1;32m   1207\u001b[0m \u001b[39mfor\u001b[39;00m doc \u001b[39min\u001b[39;00m raw_documents:\n\u001b[1;32m   1208\u001b[0m     feature_counter \u001b[39m=\u001b[39m {}\n\u001b[0;32m-> 1209\u001b[0m     \u001b[39mfor\u001b[39;00m feature \u001b[39min\u001b[39;00m analyze(doc):\n\u001b[1;32m   1210\u001b[0m         \u001b[39mtry\u001b[39;00m:\n\u001b[1;32m   1211\u001b[0m             feature_idx \u001b[39m=\u001b[39m vocabulary[feature]\n",
      "File \u001b[0;32m~/Projects/BGSU/bgsu_cs_thesis/.venv/lib/python3.9/site-packages/sklearn/feature_extraction/text.py:113\u001b[0m, in \u001b[0;36m_analyze\u001b[0;34m(doc, analyzer, tokenizer, ngrams, preprocessor, decoder, stop_words)\u001b[0m\n\u001b[1;32m    111\u001b[0m     doc \u001b[39m=\u001b[39m preprocessor(doc)\n\u001b[1;32m    112\u001b[0m \u001b[39mif\u001b[39;00m tokenizer \u001b[39mis\u001b[39;00m \u001b[39mnot\u001b[39;00m \u001b[39mNone\u001b[39;00m:\n\u001b[0;32m--> 113\u001b[0m     doc \u001b[39m=\u001b[39m tokenizer(doc)\n\u001b[1;32m    114\u001b[0m \u001b[39mif\u001b[39;00m ngrams \u001b[39mis\u001b[39;00m \u001b[39mnot\u001b[39;00m \u001b[39mNone\u001b[39;00m:\n\u001b[1;32m    115\u001b[0m     \u001b[39mif\u001b[39;00m stop_words \u001b[39mis\u001b[39;00m \u001b[39mnot\u001b[39;00m \u001b[39mNone\u001b[39;00m:\n",
      "\u001b[0;31mKeyboardInterrupt\u001b[0m: "
     ]
    }
   ],
   "source": [
    "NB_pipeline = Pipeline([\n",
    "                ('tfidf', TfidfVectorizer(stop_words=stop_words)),\n",
    "                ('clf', OneVsRestClassifier(MultinomialNB(\n",
    "                    fit_prior=True, class_prior=None))),\n",
    "            ])\n",
    "\n",
    "with open('accuracy.csv','w') as f1:\n",
    "    writer=csv.writer(f1, delimiter=',',lineterminator='\\n')\n",
    "    writer.writerow(['mesh_term','accuracy','precision','recall'])\n",
    "    for mesh_term in tqdm(unique_mesh_terms):\n",
    "        # train the model using X_dtm & y\n",
    "        NB_pipeline.fit(X_train, train[mesh_term])\n",
    "        # compute the testing accuracy\n",
    "        if IS_OSC:\n",
    "            model = convert(NB_pipeline, 'pytorch')\n",
    "            model.to('cuda')\n",
    "            prediction = model.predict(X_test)\n",
    "        else:\n",
    "            prediction = NB_pipeline.predict(X_test)\n",
    "        print('Term: {}'.format(mesh_term))\n",
    "        print('Test accuracy is {}'.format(accuracy_score(test[mesh_term], prediction)))\n",
    "        print('Test precision is {}'.format(precision_score(test[mesh_term], prediction)))\n",
    "        print('Test recall is {}'.format(recall_score(test[mesh_term], prediction)))\n",
    "        writer.writerow([\n",
    "            mesh_term, \n",
    "            accuracy_score(test[mesh_term], prediction), \n",
    "            precision_score(test[mesh_term], prediction), \n",
    "            recall_score(test[mesh_term], prediction)\n",
    "            ])"
   ]
  },
  {
   "cell_type": "code",
   "execution_count": 21,
   "metadata": {},
   "outputs": [
    {
     "name": "stdout",
     "output_type": "stream",
     "text": [
      "Term: D001058:Apomorphine\n",
      "26\n",
      "0\n",
      "Test accuracy is 0.9973737373737374\n",
      "Test precision is 0.0\n",
      "Test recall is 0.0\n",
      "Term: D010555:Personality Inventory\n",
      "3\n",
      "0\n",
      "Test accuracy is 0.9996969696969698\n",
      "Test precision is 0.0\n",
      "Test recall is 0.0\n"
     ]
    }
   ],
   "source": [
    "\n",
    "\n",
    "for mesh_term in list(unique_mesh_terms)[:2]:\n",
    "    # train the model using X_dtm & y\n",
    "    NB_pipeline.fit(X_train, train[mesh_term])\n",
    "    # compute the testing accuracy\n",
    "    prediction = NB_pipeline.predict(X_test)\n",
    "    print('Term: {}'.format(mesh_term))\n",
    "    print(test[mesh_term].sum())\n",
    "    print('Test accuracy is {}'.format(accuracy_score(test[mesh_term], prediction)))\n",
    "    print('Test precision is {}'.format(precision_score(test[mesh_term], prediction)))\n",
    "    print('Test recall is {}'.format(recall_score(test[mesh_term], prediction)))"
   ]
  },
  {
   "cell_type": "code",
   "execution_count": null,
   "metadata": {},
   "outputs": [],
   "source": []
  }
 ],
 "metadata": {
  "kernelspec": {
   "display_name": "Python 3 (ipykernel)",
   "language": "python",
   "name": "python3"
  },
  "language_info": {
   "codemirror_mode": {
    "name": "ipython",
    "version": 3
   },
   "file_extension": ".py",
   "mimetype": "text/x-python",
   "name": "python",
   "nbconvert_exporter": "python",
   "pygments_lexer": "ipython3",
   "version": "3.9.5"
  },
  "vscode": {
   "interpreter": {
    "hash": "d56fa87c78b39559b1c08cc8dd1bbbef7b63a80b01222ac7427efbc04ea0dd45"
   }
  }
 },
 "nbformat": 4,
 "nbformat_minor": 2
}
