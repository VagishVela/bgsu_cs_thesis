{
 "cells": [
  {
   "cell_type": "code",
   "execution_count": null,
   "metadata": {
    "colab": {
     "base_uri": "https://localhost:8080/"
    },
    "id": "G54aSNwBQyyG",
    "outputId": "eaadddb8-f2c4-4da0-8c6b-0a15380010d0"
   },
   "outputs": [],
   "source": [
    "import pubmed_parser as pp\n",
    "import pandas as pd\n",
    "import numpy as np\n",
    "from csv import DictWriter"
   ]
  },
  {
   "cell_type": "code",
   "execution_count": null,
   "metadata": {
    "colab": {
     "background_save": true
    },
    "id": "ET9nFBlZHdrr"
   },
   "outputs": [],
   "source": [
    "path_xml = pp.list_xml_path('data/raw') # list all xml paths under directory"
   ]
  },
  {
   "cell_type": "code",
   "execution_count": null,
   "metadata": {
    "colab": {
     "background_save": true
    },
    "id": "DU6Uu3ppHtVs"
   },
   "outputs": [],
   "source": [
    "pubmed_dict = pp.parse_medline_xml(path_xml[0]) # dictionary output"
   ]
  },
  {
   "cell_type": "code",
   "execution_count": null,
   "metadata": {
    "colab": {
     "background_save": true
    },
    "id": "baewDehmIXrb",
    "outputId": "1ae1dc9c-6da1-4cc1-ed7f-8a89c586918a"
   },
   "outputs": [],
   "source": [
    "pubmed_dict[20000]"
   ]
  },
  {
   "cell_type": "code",
   "execution_count": null,
   "metadata": {},
   "outputs": [],
   "source": [
    "def get_total_words_from_column(df_column):\n",
    "    '''\n",
    "    Input: df_column\n",
    "    Output: total words in the column\n",
    "    '''\n",
    "    column_list = df_column.to_list()\n",
    "    while ('' in column_list):\n",
    "        column_list.remove('')\n",
    "    return sum(list(map(lambda x: len(x.split()), column_list)))"
   ]
  },
  {
   "cell_type": "markdown",
   "metadata": {
    "id": "VGsOTPBDgLK7"
   },
   "source": [
    "# Let's find the missing files abstracts"
   ]
  },
  {
   "cell_type": "code",
   "execution_count": null,
   "metadata": {
    "colab": {
     "background_save": true
    },
    "id": "XDEzBjn3erOl",
    "outputId": "fc25a4a2-02c7-47f4-c9d5-dce4972880a5"
   },
   "outputs": [],
   "source": [
    "\n",
    "for path in path_xml:\n",
    "  pubmed_dict = pp.parse_medline_xml(path)\n",
    "  df = pd.DataFrame(pubmed_dict)\n",
    "  total = len(df)\n",
    "  availableDf = df.replace(r'^\\s*$', np.nan, regex=True).count().to_dict()\n",
    "  availableDf[\"total words\"] = get_total_words_from_column(df[\"abstract\"])\n",
    "  availableDf[\"path\"] = path\n",
    "  availableDf[\"total\"] = total\n",
    "  print(availableDf)\n",
    "\n",
    "  with open('00_available_data.csv', 'a') as file_obj:\n",
    "    dw_obj = DictWriter(file_obj, fieldnames=availableDf.keys())\n",
    "    if file_obj.tell() == 0:\n",
    "      dw_obj.writeheader()\n",
    "    dw_obj.writerow(availableDf)\n",
    "\n",
    "    file_obj.close()\n",
    "\n",
    "  #availableDf.to_csv(\"00_\" + path.split('/')[-1] + \"_available_data.csv\")"
   ]
  },
  {
   "cell_type": "code",
   "execution_count": null,
   "metadata": {
    "colab": {
     "background_save": true
    },
    "id": "98CdAdLQgBit"
   },
   "outputs": [],
   "source": []
  },
  {
   "cell_type": "code",
   "execution_count": null,
   "metadata": {
    "colab": {
     "background_save": true
    },
    "id": "Uzjxg8B-ob4E"
   },
   "outputs": [],
   "source": []
  },
  {
   "cell_type": "code",
   "execution_count": null,
   "metadata": {},
   "outputs": [],
   "source": []
  }
 ],
 "metadata": {
  "colab": {
   "collapsed_sections": [],
   "machine_shape": "hm",
   "name": "NLM.ipynb",
   "provenance": []
  },
  "interpreter": {
   "hash": "4b2db14b9325300dda5929fd2eec879e69c4bcabd164786ae5ecd11cdffdfb1f"
  },
  "kernelspec": {
   "display_name": "Python 3.6 (Conda 5.2) [python/3.6-conda5.2]",
   "language": "python",
   "name": "python3"
  },
  "language_info": {
   "codemirror_mode": {
    "name": "ipython",
    "version": 3
   },
   "file_extension": ".py",
   "mimetype": "text/x-python",
   "name": "python",
   "nbconvert_exporter": "python",
   "pygments_lexer": "ipython3",
   "version": "3.10.0b4"
  }
 },
 "nbformat": 4,
 "nbformat_minor": 4
}
